{
 "cells": [
  {
   "cell_type": "markdown",
   "metadata": {},
   "source": [
    "# COR1009-5 Mid-term Exam\n",
    "\n",
    "- Instructor: 서용덕\n",
    "- 10 Points Each.\n",
    "\n",
    "- You must not delete any cell. They should exist as provided.\n",
    "- You may create cells to do your own computation."
   ]
  },
  {
   "cell_type": "markdown",
   "metadata": {},
   "source": [
    "# 0. Team members\n",
    "Provide the names of your team members in the follow cell."
   ]
  },
  {
   "cell_type": "markdown",
   "metadata": {},
   "source": [
    "1. name 1 <- replace this with the real name\n",
    "2. name 2\n",
    "3. name 3"
   ]
  },
  {
   "cell_type": "markdown",
   "metadata": {},
   "source": [
    "# 1. What is your name and student id number? \n",
    "\n",
    "You must use python's `print()` function to print them out."
   ]
  },
  {
   "cell_type": "code",
   "execution_count": 1,
   "metadata": {},
   "outputs": [],
   "source": [
    "# your code here\n"
   ]
  },
  {
   "cell_type": "markdown",
   "metadata": {},
   "source": [
    "# 2. Use `for`-loop to calculate the sum of all the numbers in the arrary `A`.\n",
    "- No numpy method functions are allowed. You won't achieve any point."
   ]
  },
  {
   "cell_type": "code",
   "execution_count": 2,
   "metadata": {},
   "outputs": [
    {
     "name": "stdout",
     "output_type": "stream",
     "text": [
      "[757 756 498 941 663 592 522 318 605 626] [261 958 453  60]\n"
     ]
    }
   ],
   "source": [
    "# do not modify.\n",
    "import numpy as np\n",
    "rng = np.random.default_rng(2021) \n",
    "array_size = 1000\n",
    "A = rng.integers(0, 1000, size=array_size)\n",
    "print(A[:10], A[-4:])"
   ]
  },
  {
   "cell_type": "code",
   "execution_count": 3,
   "metadata": {},
   "outputs": [],
   "source": [
    "# your code must come here\n"
   ]
  },
  {
   "cell_type": "markdown",
   "metadata": {},
   "source": [
    "# 3. Find the largest number or the maximum in the array `A` using `for`-loop."
   ]
  },
  {
   "cell_type": "code",
   "execution_count": 4,
   "metadata": {},
   "outputs": [
    {
     "name": "stdout",
     "output_type": "stream",
     "text": [
      "[706 247 749  92 188 611 936  60  65 661] [774 377 177 466]\n"
     ]
    }
   ],
   "source": [
    "# do not modify.\n",
    "import numpy as np\n",
    "rng = np.random.default_rng(2022) \n",
    "array_size = 1000\n",
    "A = rng.integers(0, 1000, size=array_size)\n",
    "print(A[:10], A[-4:])"
   ]
  },
  {
   "cell_type": "code",
   "execution_count": 5,
   "metadata": {},
   "outputs": [],
   "source": [
    "# your code here\n"
   ]
  },
  {
   "cell_type": "markdown",
   "metadata": {},
   "source": [
    "# 4. Find the sample variance `Var` of the array `A`.\n",
    "\n",
    "The fomula to compute sample variance is as follows:\n",
    "$$\n",
    "    Var = \\frac{1}{N-1} \\sum_{i=1}^N \\big( A[i] - m \\big)^2\n",
    "$$\n",
    "where $m$ is the sample mean computed by:\n",
    "$$\n",
    "    m = \\frac{1}{N} \\sum_{i=1}^N A[i]\n",
    "$$"
   ]
  },
  {
   "cell_type": "code",
   "execution_count": 6,
   "metadata": {},
   "outputs": [
    {
     "name": "stdout",
     "output_type": "stream",
     "text": [
      "[473  88 157 220 298 113 599 442 255 697] [905 380 189 205]\n"
     ]
    }
   ],
   "source": [
    "# do not modify.\n",
    "import numpy as np\n",
    "rng = np.random.default_rng(2023) \n",
    "array_size = 1000\n",
    "A = rng.integers(0, 1000, size=array_size)\n",
    "print(A[:10], A[-4:])"
   ]
  },
  {
   "cell_type": "code",
   "execution_count": 7,
   "metadata": {},
   "outputs": [],
   "source": [
    "# your code here\n"
   ]
  },
  {
   "cell_type": "markdown",
   "metadata": {},
   "source": [
    "# 5. Big Box\n",
    "\n",
    "Create a big box out of n rows of little o's for any desired size n.\n",
    "\n",
    "E.g. n = 3  \n",
    "<pre>\n",
    "oooooo  \n",
    "o    o  \n",
    "oooooo\n",
    "</pre>"
   ]
  },
  {
   "cell_type": "code",
   "execution_count": 8,
   "metadata": {},
   "outputs": [],
   "source": [
    "# You are to fix n to 5.\n",
    "n = 5 \n",
    "# your code here\n"
   ]
  },
  {
   "cell_type": "markdown",
   "metadata": {},
   "source": [
    "# 6. Print the following for any positive integer n.\n",
    "\n",
    "E.g. n = 3\n",
    "<pre>\n",
    "1 3 5 5 3 1\n",
    "3 5     5 3\n",
    "5         5\n",
    "5         5\n",
    "3 5     5 3\n",
    "1 3 5 5 3 1\n",
    "</pre>"
   ]
  },
  {
   "cell_type": "code",
   "execution_count": 9,
   "metadata": {},
   "outputs": [],
   "source": [
    "n = 5\n",
    "# your code comes here.\n"
   ]
  },
  {
   "cell_type": "markdown",
   "metadata": {},
   "source": [
    "# 7. Make a rectangle block of red color\n",
    "- Below, the 2d array `I` is filled with [0,0,255] which is blue color.\n",
    "- Make a red colored box at x=100, y=20, and width=200, height=100; here (y, x) is the (top, left) location of the red box.\n",
    "- You must use double or tripple `for`-loop iteration to do this."
   ]
  },
  {
   "cell_type": "code",
   "execution_count": 10,
   "metadata": {},
   "outputs": [
    {
     "data": {
      "image/png": "[encoded data removed]",
      "text/plain": [
       "<Figure size 432x288 with 1 Axes>"
      ]
     },
     "metadata": {
      "needs_background": "light"
     },
     "output_type": "display_data"
    }
   ],
   "source": [
    "import matplotlib.pyplot \n",
    "import numpy as np\n",
    "\n",
    "I = np.zeros((480, 720, 3), dtype=np.uint8)\n",
    "I[:,:] = [0,0,255] # set blue\n",
    "\n",
    "import matplotlib.pyplot as plt\n",
    "plt.imshow(I);"
   ]
  },
  {
   "cell_type": "code",
   "execution_count": 11,
   "metadata": {},
   "outputs": [],
   "source": [
    "# you code here\n"
   ]
  },
  {
   "cell_type": "code",
   "execution_count": 12,
   "metadata": {},
   "outputs": [
    {
     "data": {
      "image/png": "[encoded data removed]",
      "text/plain": [
       "<Figure size 432x288 with 1 Axes>"
      ]
     },
     "metadata": {
      "needs_background": "light"
     },
     "output_type": "display_data"
    }
   ],
   "source": [
    "# When you finish this, the following command will present the red rectangle.\n",
    "# Do not edit.\n",
    "plt.imshow(I);"
   ]
  },
  {
   "cell_type": "markdown",
   "metadata": {},
   "source": [
    "# 8. Binary Number\n",
    "\n",
    "Given an array of ones and zeroes, convert the equivalent binary value to an integer.\n",
    "\n",
    "Eg: `[0, 0, 0, 1]` is treated as 0001 which is the binary representation of 1.\n",
    "- Testing: `[0, 0, 1, 0]` ==> 2\n",
    "- Testing: `[0, 1, 0, 1]` ==> 5\n",
    "- Testing: `[1, 0, 0, 1]` ==> 9\n"
   ]
  },
  {
   "cell_type": "code",
   "execution_count": 13,
   "metadata": {},
   "outputs": [
    {
     "name": "stdout",
     "output_type": "stream",
     "text": [
      "N=None for b=[1, 0, 0, 0, 1]\n"
     ]
    }
   ],
   "source": [
    "b = [1, 0, 0, 0, 1]\n",
    "n = None\n",
    "# your code starts here ---------\n",
    "\n",
    "# your code finishes here -------\n",
    "print(f'N={n} for b={b}')"
   ]
  },
  {
   "cell_type": "code",
   "execution_count": 14,
   "metadata": {},
   "outputs": [
    {
     "name": "stdout",
     "output_type": "stream",
     "text": [
      "N=None for b=[1, 1, 0, 0, 0, 1]\n"
     ]
    }
   ],
   "source": [
    "b = [1, 1, 0, 0, 0, 1]\n",
    "n = None\n",
    "# your code starts here ---------\n",
    "# just make a copy of the code you developed above.\n",
    "\n",
    "# your code finishes here -------\n",
    "print(f'N={n} for b={b}')"
   ]
  },
  {
   "cell_type": "markdown",
   "metadata": {},
   "source": [
    "# 9. Encode a string.\n",
    "\n",
    "- You are given a string\n",
    "- Then apply the following rule to produce output string. The characters not specified in the rule remain the same in the string. Use `for` loop and `if-else` conditional statements to apply the rule.\n",
    "\n",
    "- 'a' -> '1'\n",
    "- 'e' -> '2'\n",
    "- 'i' -> '3'\n",
    "- 'o' -> '4'\n",
    "- 'u' -> '5'\n"
   ]
  },
  {
   "cell_type": "code",
   "execution_count": 15,
   "metadata": {},
   "outputs": [
    {
     "name": "stdout",
     "output_type": "stream",
     "text": [
      "It is a truth universally acknowledged, that a single man in\n",
      "possession of a good fortune, must be in want of a wife.\n",
      "\n",
      "However little known the feelings or views of such a man may be\n",
      "on his first entering a neighbourhood, this truth is so well\n",
      "fixed in the minds of the surrounding families, that he is\n",
      "considered the rightful property of some one or other of their\n",
      "daughters.\n"
     ]
    }
   ],
   "source": [
    "# do not modify\n",
    "input_string =  '''It is a truth universally acknowledged, that a single man in\n",
    "possession of a good fortune, must be in want of a wife.\n",
    "\n",
    "However little known the feelings or views of such a man may be\n",
    "on his first entering a neighbourhood, this truth is so well\n",
    "fixed in the minds of the surrounding families, that he is\n",
    "considered the rightful property of some one or other of their\n",
    "daughters.'''\n",
    "\n",
    "print(input_string)"
   ]
  },
  {
   "cell_type": "code",
   "execution_count": 16,
   "metadata": {},
   "outputs": [],
   "source": [
    "# you code here\n"
   ]
  },
  {
   "cell_type": "code",
   "execution_count": null,
   "metadata": {},
   "outputs": [],
   "source": []
  },
  {
   "cell_type": "markdown",
   "metadata": {},
   "source": [
    "# 10. Find common items in two lists\n",
    "\n",
    "1. find those common items.\n",
    "2. print out the number of common items.\n",
    "3. print out the maximum among them. You must find the maximum with your own code or function. Python's builtin `max()` is not allowed. \n",
    "4. print out the minimum among them. You must find the minimum with your own code or function. Python's builtin `min()` is not allowed.\n",
    "5. Do not print all of the common items, or you will get negative reward."
   ]
  },
  {
   "cell_type": "code",
   "execution_count": 17,
   "metadata": {},
   "outputs": [
    {
     "name": "stdout",
     "output_type": "stream",
     "text": [
      "[75, 75, 49, 94, 66, 59, 52, 31, 60, 62] [79, 68, 27, 22, 67, 6, 86, 17, 28, 2]\n"
     ]
    }
   ],
   "source": [
    "import numpy as np\n",
    "rng = np.random.default_rng(2021)\n",
    "\n",
    "lista = list(rng.integers(0,100,size=200))\n",
    "listb = list(rng.integers(0,100,size=200))\n",
    "print(lista[:10], listb[:10])"
   ]
  },
  {
   "cell_type": "code",
   "execution_count": 18,
   "metadata": {},
   "outputs": [],
   "source": [
    "# your code here\n"
   ]
  },
  {
   "cell_type": "markdown",
   "metadata": {},
   "source": []
  },
  {
   "cell_type": "markdown",
   "metadata": {},
   "source": [
    "End."
   ]
  }
 ],
 "metadata": {
  "kernelspec": {
   "display_name": "Python 3",
   "language": "python",
   "name": "python3"
  },
  "language_info": {
   "codemirror_mode": {
    "name": "ipython",
    "version": 3
   },
   "file_extension": ".py",
   "mimetype": "text/x-python",
   "name": "python",
   "nbconvert_exporter": "python",
   "pygments_lexer": "ipython3",
   "version": "3.8.8"
  }
 },
 "nbformat": 4,
 "nbformat_minor": 4
}
