{
 "cells": [
  {
   "cell_type": "markdown",
   "metadata": {},
   "source": [
    "# COR1009 3월 27일"
   ]
  },
  {
   "cell_type": "code",
   "execution_count": 15,
   "metadata": {},
   "outputs": [],
   "source": [
    "import numpy as np"
   ]
  },
  {
   "cell_type": "code",
   "execution_count": 43,
   "metadata": {},
   "outputs": [
    {
     "data": {
      "text/plain": [
       "'a'"
      ]
     },
     "execution_count": 43,
     "metadata": {},
     "output_type": "execute_result"
    }
   ],
   "source": [
    "name_list = [ '난디타', '샤론', '김예진', '김규리', '안예현', '유영서', '이상민', '이채은', '정어진', '이준하']\n",
    "np.random.choice(['a', 'b'])"
   ]
  },
  {
   "cell_type": "code",
   "execution_count": 18,
   "metadata": {},
   "outputs": [
    {
     "name": "stdout",
     "output_type": "stream",
     "text": [
      "['난디타', '샤론', '김예진', '김규리', '안예현', '유영서', '이상민', '이채은', '정어진', '이준하']\n"
     ]
    }
   ],
   "source": [
    "print(name)"
   ]
  },
  {
   "cell_type": "code",
   "execution_count": 25,
   "metadata": {},
   "outputs": [
    {
     "data": {
      "text/plain": [
       "('난디타', '이채은')"
      ]
     },
     "execution_count": 25,
     "metadata": {},
     "output_type": "execute_result"
    }
   ],
   "source": [
    "name[0], name[-3]"
   ]
  },
  {
   "cell_type": "code",
   "execution_count": 26,
   "metadata": {},
   "outputs": [
    {
     "data": {
      "text/plain": [
       "['난디타', '샤론', '김예진']"
      ]
     },
     "execution_count": 26,
     "metadata": {},
     "output_type": "execute_result"
    }
   ],
   "source": [
    "name[0:3]"
   ]
  },
  {
   "cell_type": "code",
   "execution_count": 28,
   "metadata": {},
   "outputs": [
    {
     "data": {
      "text/plain": [
       "['김규리', '안예현', '유영서', '이상민']"
      ]
     },
     "execution_count": 28,
     "metadata": {},
     "output_type": "execute_result"
    }
   ],
   "source": [
    "name[3:7]"
   ]
  },
  {
   "cell_type": "code",
   "execution_count": 41,
   "metadata": {},
   "outputs": [
    {
     "data": {
      "text/plain": [
       "'이준하'"
      ]
     },
     "execution_count": 41,
     "metadata": {},
     "output_type": "execute_result"
    }
   ],
   "source": [
    "selected = np.random.choice(name)\n",
    "\n",
    "selected"
   ]
  },
  {
   "cell_type": "code",
   "execution_count": 11,
   "metadata": {},
   "outputs": [
    {
     "name": "stdout",
     "output_type": "stream",
     "text": [
      "True\n"
     ]
    }
   ],
   "source": [
    "print(\"3\" < \"4\") # operator overloading?"
   ]
  },
  {
   "cell_type": "code",
   "execution_count": 12,
   "metadata": {},
   "outputs": [
    {
     "name": "stdout",
     "output_type": "stream",
     "text": [
      "False\n"
     ]
    }
   ],
   "source": [
    "print(\"3\" < \"10\")"
   ]
  },
  {
   "cell_type": "code",
   "execution_count": 13,
   "metadata": {},
   "outputs": [
    {
     "data": {
      "text/plain": [
       "3"
      ]
     },
     "execution_count": 13,
     "metadata": {},
     "output_type": "execute_result"
    }
   ],
   "source": [
    "1 + 2"
   ]
  },
  {
   "cell_type": "code",
   "execution_count": 14,
   "metadata": {},
   "outputs": [
    {
     "data": {
      "text/plain": [
       "'111222'"
      ]
     },
     "execution_count": 14,
     "metadata": {},
     "output_type": "execute_result"
    }
   ],
   "source": [
    "\"111\" + \"222\""
   ]
  },
  {
   "cell_type": "markdown",
   "metadata": {},
   "source": [
    "4332221111 is a prime!"
   ]
  },
  {
   "cell_type": "markdown",
   "metadata": {},
   "source": [
    "Prime number : 소수 n, n is prime == n {1, n}\n",
    "2, 3, 5, 7, 11, ..."
   ]
  },
  {
   "cell_type": "code",
   "execution_count": 42,
   "metadata": {},
   "outputs": [
    {
     "name": "stdout",
     "output_type": "stream",
     "text": [
      "0\n",
      "1\n",
      "2\n",
      "3\n",
      "4\n",
      "5\n",
      "6\n",
      "7\n",
      "8\n",
      "9\n"
     ]
    }
   ],
   "source": [
    "for i in range(10):\n",
    "    print(i)"
   ]
  },
  {
   "cell_type": "code",
   "execution_count": 46,
   "metadata": {},
   "outputs": [
    {
     "name": "stdout",
     "output_type": "stream",
     "text": [
      "난디타 hello\n",
      "샤론 hello\n",
      "김예진 hello\n",
      "김규리 hello\n",
      "안예현 hello\n",
      "유영서 hello\n",
      "이상민 hello\n",
      "이채은 hello\n",
      "정어진 hello\n",
      "이준하 hello\n"
     ]
    }
   ],
   "source": [
    "for name in name_list:\n",
    "    print(name, 'hello')"
   ]
  },
  {
   "cell_type": "code",
   "execution_count": 48,
   "metadata": {},
   "outputs": [
    {
     "name": "stdout",
     "output_type": "stream",
     "text": [
      "0 난디타 good day!\n",
      "1 샤론 good day!\n",
      "2 김예진 good day!\n",
      "3 김규리 good day!\n",
      "4 안예현 good day!\n",
      "5 유영서 good day!\n",
      "6 이상민 good day!\n",
      "7 이채은 good day!\n",
      "8 정어진 good day!\n",
      "9 이준하 good day!\n"
     ]
    }
   ],
   "source": [
    "for i in range(10):\n",
    "    print(i, name_list[i], 'good day!')"
   ]
  },
  {
   "cell_type": "code",
   "execution_count": 49,
   "metadata": {},
   "outputs": [
    {
     "name": "stdout",
     "output_type": "stream",
     "text": [
      "0 난디타  hello \n",
      "1 샤론  hello \n",
      "2 김예진  hello \n",
      "3 김규리  hello \n",
      "4 안예현  hello \n",
      "5 유영서  hello \n",
      "6 이상민  hello \n",
      "7 이채은  hello \n",
      "8 정어진  hello \n",
      "9 이준하  hello \n"
     ]
    }
   ],
   "source": [
    "for i in range( len(name_list) ):\n",
    "    print(i, name_list[i], ' hello ')"
   ]
  },
  {
   "cell_type": "code",
   "execution_count": 50,
   "metadata": {},
   "outputs": [
    {
     "name": "stdout",
     "output_type": "stream",
     "text": [
      "trump\n",
      "king\n"
     ]
    }
   ],
   "source": [
    "for n in ['trump', 'king']:\n",
    "    print(n)"
   ]
  },
  {
   "cell_type": "code",
   "execution_count": 52,
   "metadata": {},
   "outputs": [
    {
     "name": "stdout",
     "output_type": "stream",
     "text": [
      "0 난디타\n",
      "1 샤론\n",
      "2 김예진\n",
      "3 김규리\n",
      "4 안예현\n",
      "5 유영서\n",
      "6 이상민\n",
      "7 이채은\n",
      "8 정어진\n",
      "9 이준하\n"
     ]
    }
   ],
   "source": [
    "for i, name in enumerate(name_list):\n",
    "    print(i, name)"
   ]
  },
  {
   "cell_type": "code",
   "execution_count": 54,
   "metadata": {},
   "outputs": [
    {
     "name": "stdout",
     "output_type": "stream",
     "text": [
      "0 trump\n",
      "1 king\n"
     ]
    }
   ],
   "source": [
    "for i, n in enumerate(['trump', 'king']):\n",
    "    print(i, n)"
   ]
  },
  {
   "cell_type": "code",
   "execution_count": 55,
   "metadata": {},
   "outputs": [
    {
     "name": "stdout",
     "output_type": "stream",
     "text": [
      "10\n",
      "9\n",
      "8\n",
      "7\n",
      "6\n",
      "5\n",
      "4\n",
      "3\n",
      "2\n",
      "1\n"
     ]
    }
   ],
   "source": [
    "for i in range(10, 0, -1):\n",
    "    print(i)"
   ]
  },
  {
   "cell_type": "code",
   "execution_count": 60,
   "metadata": {},
   "outputs": [
    {
     "name": "stdout",
     "output_type": "stream",
     "text": [
      "0: 0, 1, 2, 3, \n",
      "1: 0, 1, 2, 3, \n",
      "2: 0, 1, 2, 3, \n",
      "3: 0, 1, 2, 3, \n",
      "4: 0, 1, 2, 3, \n"
     ]
    }
   ],
   "source": [
    "for i in range(5):\n",
    "    print(i, end=': ')\n",
    "    for j in range(4):\n",
    "        print(j,  end=', ')\n",
    "    print()"
   ]
  },
  {
   "cell_type": "code",
   "execution_count": 61,
   "metadata": {},
   "outputs": [
    {
     "name": "stdout",
     "output_type": "stream",
     "text": [
      "110\n"
     ]
    }
   ],
   "source": [
    "a = 0\n",
    "for i in range(10):\n",
    "    a = a + 1\n",
    "    for j in range(10):\n",
    "        a = a + 1\n",
    "print(a)"
   ]
  },
  {
   "cell_type": "markdown",
   "metadata": {},
   "source": [
    "2 raised to the power of 32 = 2의 32제곱 = 2의 32승 "
   ]
  },
  {
   "cell_type": "code",
   "execution_count": 63,
   "metadata": {},
   "outputs": [
    {
     "data": {
      "text/plain": [
       "1"
      ]
     },
     "execution_count": 63,
     "metadata": {},
     "output_type": "execute_result"
    }
   ],
   "source": [
    "2**0"
   ]
  },
  {
   "cell_type": "code",
   "execution_count": 64,
   "metadata": {},
   "outputs": [
    {
     "name": "stdin",
     "output_type": "stream",
     "text": [
      "Do you want to quit?  n\n",
      "Does your elf attack the dragon?  n\n",
      "Do you want to quit?  y\n",
      "Does your elf attack the dragon?  n\n"
     ]
    }
   ],
   "source": [
    "done = False\n",
    "while not done:\n",
    "    quit = input(\"Do you want to quit? \")\n",
    "    if quit == \"y\":\n",
    "        done = True\n",
    " \n",
    "    attack = input(\"Does your elf attack the dragon? \")\n",
    "    if attack == \"y\":\n",
    "        print(\"Bad choice, you died.\")\n",
    "        done = True"
   ]
  },
  {
   "cell_type": "code",
   "execution_count": null,
   "metadata": {},
   "outputs": [],
   "source": []
  },
  {
   "cell_type": "markdown",
   "metadata": {},
   "source": [
    "1. Write a Python program that will use a for loop to print your name 10 times, and then the word ``Done'' at the end. "
   ]
  },
  {
   "cell_type": "code",
   "execution_count": 65,
   "metadata": {},
   "outputs": [
    {
     "name": "stdout",
     "output_type": "stream",
     "text": [
      "your name\n",
      "your name\n",
      "your name\n",
      "your name\n",
      "your name\n",
      "your name\n",
      "your name\n",
      "your name\n",
      "your name\n",
      "your name\n",
      "Done\n"
     ]
    }
   ],
   "source": [
    "for i in range(10):\n",
    "    print(\"your name\")\n",
    "print('Done')"
   ]
  },
  {
   "cell_type": "raw",
   "metadata": {},
   "source": [
    "2. Write a Python program that will use a for loop to print ``Red'' and then ``Gold'' 20 times. (Red Gold Red Gold Red Gold... all on separate lines. Don't use \\n.) "
   ]
  },
  {
   "cell_type": "code",
   "execution_count": null,
   "metadata": {},
   "outputs": [],
   "source": []
  }
 ],
 "metadata": {
  "kernelspec": {
   "display_name": "Python 3",
   "language": "python",
   "name": "python3"
  },
  "language_info": {
   "codemirror_mode": {
    "name": "ipython",
    "version": 3
   },
   "file_extension": ".py",
   "mimetype": "text/x-python",
   "name": "python",
   "nbconvert_exporter": "python",
   "pygments_lexer": "ipython3",
   "version": "3.7.5"
  }
 },
 "nbformat": 4,
 "nbformat_minor": 4
}
