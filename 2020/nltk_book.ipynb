{
 "cells": [
  {
   "cell_type": "code",
   "execution_count": 75,
   "metadata": {},
   "outputs": [],
   "source": [
    "from pathlib import Path\n",
    "import nltk\n",
    "import unicodedata \n",
    "\n",
    "\n",
    "src_dir = 'korTextData'\n",
    "filename = '광염소나타-김동인.txt'\n",
    "filepath = Path(src_dir) / filename\n",
    "\n",
    "lines = open(filepath, encoding='utf8').readlines()\n",
    "\n",
    "lines = [line.strip() for line in lines]"
   ]
  },
  {
   "cell_type": "code",
   "execution_count": 69,
   "metadata": {},
   "outputs": [],
   "source": [
    "with open(filepath, 'r', encoding='utf8') as f:\n",
    "    lines = f.readlines()"
   ]
  },
  {
   "cell_type": "code",
   "execution_count": 76,
   "metadata": {},
   "outputs": [
    {
     "data": {
      "text/plain": [
       "['김동인 <광염 소나타>',\n",
       " '독자는 이제 내가 쓰려는 이야기를, 유럽의 어떤 곳에 생긴 일이라고 생각하여도 좋다. 혹',\n",
       " '은 사십 오십 년 뒤에 조선을 무대로 생겨날 이야기라고 생각하여도 좋다. 다만, 이 지구상',\n",
       " '의 어떠한 곳에 이러한 일이 있었는지도 모르겠다, 있는지도 모르겠다, 혹은 있을지도 모',\n",
       " '르겠다, 가능성뿐은 있다―---이만치 알아두면 그만이다.',\n",
       " '그런지라, 내가 여기 쓰려는 이야기의 주인공 되는 백성수(白性洙)를 혹은 알벨트라 생각',\n",
       " '하여도 좋을 것이요 짐이라 생각하여도 좋을 것이요 또는 호모(胡某)나 기무라모(木村某)',\n",
       " '로 생각하여도 괜찮다. 다만 사람이라 하는 동물을 주인공삼아 가지고 사람의 세상에서 생',\n",
       " '겨난 일인 줄만 알면…….',\n",
       " '이러한 전제로써, 자 그러면 내 이야기를 시작하자.']"
      ]
     },
     "execution_count": 76,
     "metadata": {},
     "output_type": "execute_result"
    }
   ],
   "source": [
    "lines[:10]"
   ]
  },
  {
   "cell_type": "code",
   "execution_count": 74,
   "metadata": {},
   "outputs": [
    {
     "data": {
      "text/plain": [
       "10"
      ]
     },
     "execution_count": 74,
     "metadata": {},
     "output_type": "execute_result"
    }
   ],
   "source": [
    "ord(lines[0][-1])"
   ]
  },
  {
   "cell_type": "code",
   "execution_count": 68,
   "metadata": {},
   "outputs": [
    {
     "data": {
      "text/plain": [
       "(WindowsPath('korTextData/광염소나타-김동인.txt'), pathlib.WindowsPath)"
      ]
     },
     "execution_count": 68,
     "metadata": {},
     "output_type": "execute_result"
    }
   ],
   "source": [
    "filepath, type(filepath)"
   ]
  },
  {
   "cell_type": "code",
   "execution_count": 77,
   "metadata": {},
   "outputs": [],
   "source": [
    "line = lines[100]"
   ]
  },
  {
   "cell_type": "code",
   "execution_count": 78,
   "metadata": {},
   "outputs": [
    {
     "data": {
      "text/plain": [
       "'예배당에는 오르간은 있을지나 피아노가 있는 곳은 쉽지 않은 것으로서 무슨 흥이나 날 때'"
      ]
     },
     "execution_count": 78,
     "metadata": {},
     "output_type": "execute_result"
    }
   ],
   "source": [
    "line"
   ]
  },
  {
   "cell_type": "code",
   "execution_count": 79,
   "metadata": {},
   "outputs": [
    {
     "name": "stdout",
     "output_type": "stream",
     "text": [
      "예  utf8: b'\\xec\\x98\\x88' ord: U+c608 name: HANGUL SYLLABLE YE\n",
      "배  utf8: b'\\xeb\\xb0\\xb0' ord: U+bc30 name: HANGUL SYLLABLE BAE\n",
      "당  utf8: b'\\xeb\\x8b\\xb9' ord: U+b2f9 name: HANGUL SYLLABLE DANG\n",
      "에  utf8: b'\\xec\\x97\\x90' ord: U+c5d0 name: HANGUL SYLLABLE E\n",
      "는  utf8: b'\\xeb\\x8a\\x94' ord: U+b294 name: HANGUL SYLLABLE NEUN\n",
      ">> c:   ord(c): 32 SPACE\n",
      "오  utf8: b'\\xec\\x98\\xa4' ord: U+c624 name: HANGUL SYLLABLE O\n",
      "르  utf8: b'\\xeb\\xa5\\xb4' ord: U+b974 name: HANGUL SYLLABLE REU\n",
      "간  utf8: b'\\xea\\xb0\\x84' ord: U+ac04 name: HANGUL SYLLABLE GAN\n",
      "은  utf8: b'\\xec\\x9d\\x80' ord: U+c740 name: HANGUL SYLLABLE EUN\n",
      ">> c:   ord(c): 32 SPACE\n",
      "있  utf8: b'\\xec\\x9e\\x88' ord: U+c788 name: HANGUL SYLLABLE ISS\n",
      "을  utf8: b'\\xec\\x9d\\x84' ord: U+c744 name: HANGUL SYLLABLE EUL\n",
      "지  utf8: b'\\xec\\xa7\\x80' ord: U+c9c0 name: HANGUL SYLLABLE JI\n",
      "나  utf8: b'\\xeb\\x82\\x98' ord: U+b098 name: HANGUL SYLLABLE NA\n",
      ">> c:   ord(c): 32 SPACE\n",
      "피  utf8: b'\\xed\\x94\\xbc' ord: U+d53c name: HANGUL SYLLABLE PI\n",
      "아  utf8: b'\\xec\\x95\\x84' ord: U+c544 name: HANGUL SYLLABLE A\n",
      "노  utf8: b'\\xeb\\x85\\xb8' ord: U+b178 name: HANGUL SYLLABLE NO\n",
      "가  utf8: b'\\xea\\xb0\\x80' ord: U+ac00 name: HANGUL SYLLABLE GA\n",
      ">> c:   ord(c): 32 SPACE\n",
      "있  utf8: b'\\xec\\x9e\\x88' ord: U+c788 name: HANGUL SYLLABLE ISS\n",
      "는  utf8: b'\\xeb\\x8a\\x94' ord: U+b294 name: HANGUL SYLLABLE NEUN\n",
      ">> c:   ord(c): 32 SPACE\n",
      "곳  utf8: b'\\xea\\xb3\\xb3' ord: U+acf3 name: HANGUL SYLLABLE GOS\n",
      "은  utf8: b'\\xec\\x9d\\x80' ord: U+c740 name: HANGUL SYLLABLE EUN\n",
      ">> c:   ord(c): 32 SPACE\n",
      "쉽  utf8: b'\\xec\\x89\\xbd' ord: U+c27d name: HANGUL SYLLABLE SWIB\n",
      "지  utf8: b'\\xec\\xa7\\x80' ord: U+c9c0 name: HANGUL SYLLABLE JI\n",
      ">> c:   ord(c): 32 SPACE\n",
      "않  utf8: b'\\xec\\x95\\x8a' ord: U+c54a name: HANGUL SYLLABLE ANH\n",
      "은  utf8: b'\\xec\\x9d\\x80' ord: U+c740 name: HANGUL SYLLABLE EUN\n",
      ">> c:   ord(c): 32 SPACE\n",
      "것  utf8: b'\\xea\\xb2\\x83' ord: U+ac83 name: HANGUL SYLLABLE GEOS\n",
      "으  utf8: b'\\xec\\x9c\\xbc' ord: U+c73c name: HANGUL SYLLABLE EU\n",
      "로  utf8: b'\\xeb\\xa1\\x9c' ord: U+b85c name: HANGUL SYLLABLE RO\n",
      "서  utf8: b'\\xec\\x84\\x9c' ord: U+c11c name: HANGUL SYLLABLE SEO\n",
      ">> c:   ord(c): 32 SPACE\n",
      "무  utf8: b'\\xeb\\xac\\xb4' ord: U+bb34 name: HANGUL SYLLABLE MU\n",
      "슨  utf8: b'\\xec\\x8a\\xa8' ord: U+c2a8 name: HANGUL SYLLABLE SEUN\n",
      ">> c:   ord(c): 32 SPACE\n",
      "흥  utf8: b'\\xed\\x9d\\xa5' ord: U+d765 name: HANGUL SYLLABLE HEUNG\n",
      "이  utf8: b'\\xec\\x9d\\xb4' ord: U+c774 name: HANGUL SYLLABLE I\n",
      "나  utf8: b'\\xeb\\x82\\x98' ord: U+b098 name: HANGUL SYLLABLE NA\n",
      ">> c:   ord(c): 32 SPACE\n",
      "날  utf8: b'\\xeb\\x82\\xa0' ord: U+b0a0 name: HANGUL SYLLABLE NAL\n",
      ">> c:   ord(c): 32 SPACE\n",
      "때  utf8: b'\\xeb\\x95\\x8c' ord: U+b54c name: HANGUL SYLLABLE DDAE\n"
     ]
    }
   ],
   "source": [
    "for c in line:\n",
    "    if ord(c) > 127:\n",
    "        print('{}  utf8: {} ord: U+{:04x} name: {}'.format(c, c.encode('utf8'), ord(c), unicodedata.name(c)))\n",
    "    else:\n",
    "        print(f'>> c: {c} ord(c): {ord(c)} {unicodedata.name(c)}')"
   ]
  },
  {
   "cell_type": "code",
   "execution_count": 13,
   "metadata": {},
   "outputs": [
    {
     "name": "stdout",
     "output_type": "stream",
     "text": [
      "b'\\\\uc608\\\\ubc30\\\\ub2f9\\\\uc5d0\\\\ub294 \\\\uc624\\\\ub974\\\\uac04\\\\uc740 \\\\uc788\\\\uc744\\\\uc9c0\\\\ub098 \\\\ud53c\\\\uc544\\\\ub178\\\\uac00 \\\\uc788\\\\ub294 \\\\uacf3\\\\uc740 \\\\uc27d\\\\uc9c0 \\\\uc54a\\\\uc740 \\\\uac83\\\\uc73c\\\\ub85c\\\\uc11c \\\\ubb34\\\\uc2a8 \\\\ud765\\\\uc774\\\\ub098 \\\\ub0a0 \\\\ub54c'\n"
     ]
    }
   ],
   "source": [
    "print(line.encode('unicode_escape'))"
   ]
  },
  {
   "cell_type": "code",
   "execution_count": 14,
   "metadata": {},
   "outputs": [
    {
     "data": {
      "text/plain": [
       "(236, 152, '0xec', '0x98', b'\\xec\\x98')"
      ]
     },
     "execution_count": 14,
     "metadata": {},
     "output_type": "execute_result"
    }
   ],
   "source": [
    "a = line.encode('utf8')\n",
    "a[0], a[1], hex(a[0]), hex(a[1]), a[:2]"
   ]
  },
  {
   "cell_type": "code",
   "execution_count": 80,
   "metadata": {},
   "outputs": [
    {
     "data": {
      "text/plain": [
       "['예배당에는',\n",
       " '오르간은',\n",
       " '있을지나',\n",
       " '피아노가',\n",
       " '있는',\n",
       " '곳은',\n",
       " '쉽지',\n",
       " '않은',\n",
       " '것으로서',\n",
       " '무슨',\n",
       " '흥이나',\n",
       " '날',\n",
       " '때']"
      ]
     },
     "execution_count": 80,
     "metadata": {},
     "output_type": "execute_result"
    }
   ],
   "source": [
    "nltk.word_tokenize(line)"
   ]
  },
  {
   "cell_type": "code",
   "execution_count": 82,
   "metadata": {},
   "outputs": [
    {
     "data": {
      "text/plain": [
       "(5722,\n",
       " ['이름을',\n",
       "  '날렸습니',\n",
       "  '다',\n",
       "  '.',\n",
       "  '*',\n",
       "  '재작년',\n",
       "  '이른',\n",
       "  '봄',\n",
       "  '어떤',\n",
       "  '날이었습니다',\n",
       "  '.',\n",
       "  '그때',\n",
       "  '나는',\n",
       "  '조용한',\n",
       "  '밤중의',\n",
       "  '몇',\n",
       "  '시간씩을',\n",
       "  '○○예배당에',\n",
       "  '가서',\n",
       "  '명상으로'])"
      ]
     },
     "execution_count": 82,
     "metadata": {},
     "output_type": "execute_result"
    }
   ],
   "source": [
    "mytokens = []\n",
    "for s in lines:\n",
    "    mytokens += nltk.word_tokenize(s)\n",
    "len(mytokens), mytokens[1000:1020]"
   ]
  },
  {
   "cell_type": "code",
   "execution_count": 87,
   "metadata": {},
   "outputs": [
    {
     "data": {
      "text/plain": [
       "['김동인',\n",
       " '<',\n",
       " '광염',\n",
       " '소나타',\n",
       " '>',\n",
       " '독자는',\n",
       " '이제',\n",
       " '내가',\n",
       " '쓰려는',\n",
       " '이야기를',\n",
       " ',',\n",
       " '유럽의',\n",
       " '어떤',\n",
       " '곳에',\n",
       " '생긴',\n",
       " '일이라고',\n",
       " '생각하여도',\n",
       " '좋다',\n",
       " '.',\n",
       " '혹',\n",
       " '은',\n",
       " '사십',\n",
       " '오십',\n",
       " '년',\n",
       " '뒤에',\n",
       " '조선을',\n",
       " '무대로',\n",
       " '생겨날',\n",
       " '이야기라고',\n",
       " '생각하여도',\n",
       " '좋다',\n",
       " '.',\n",
       " '다만',\n",
       " ',',\n",
       " '이',\n",
       " '지구상',\n",
       " '의',\n",
       " '어떠한',\n",
       " '곳에',\n",
       " '이러한',\n",
       " '일이',\n",
       " '있었는지도',\n",
       " '모르겠다',\n",
       " ',',\n",
       " '있는지도',\n",
       " '모르겠다',\n",
       " ',',\n",
       " '혹은',\n",
       " '있을지도',\n",
       " '모',\n",
       " '르겠다',\n",
       " ',',\n",
       " '가능성뿐은',\n",
       " '있다―',\n",
       " '--',\n",
       " '-이만치',\n",
       " '알아두면',\n",
       " '그만이다',\n",
       " '.',\n",
       " '그런지라',\n",
       " ',',\n",
       " '내가',\n",
       " '여기',\n",
       " '쓰려는',\n",
       " '이야기의',\n",
       " '주인공',\n",
       " '되는',\n",
       " '백성수',\n",
       " '(',\n",
       " '白性洙',\n",
       " ')',\n",
       " '를',\n",
       " '혹은',\n",
       " '알벨트라',\n",
       " '생각',\n",
       " '하여도',\n",
       " '좋을',\n",
       " '것이요',\n",
       " '짐이라',\n",
       " '생각하여도',\n",
       " '좋을',\n",
       " '것이요',\n",
       " '또는',\n",
       " '호모',\n",
       " '(',\n",
       " '胡某',\n",
       " ')',\n",
       " '나',\n",
       " '기무라모',\n",
       " '(',\n",
       " '木村某',\n",
       " ')',\n",
       " '로',\n",
       " '생각하여도',\n",
       " '괜찮다',\n",
       " '.',\n",
       " '다만',\n",
       " '사람이라',\n",
       " '하는',\n",
       " '동물을']"
      ]
     },
     "execution_count": 87,
     "metadata": {},
     "output_type": "execute_result"
    }
   ],
   "source": [
    "mytokens[:100]"
   ]
  },
  {
   "cell_type": "code",
   "execution_count": 83,
   "metadata": {},
   "outputs": [],
   "source": [
    "split_tokens = []\n",
    "for s in lines:\n",
    "    split_tokens += s.split()"
   ]
  },
  {
   "cell_type": "code",
   "execution_count": 84,
   "metadata": {},
   "outputs": [
    {
     "data": {
      "text/plain": [
       "4688"
      ]
     },
     "execution_count": 84,
     "metadata": {},
     "output_type": "execute_result"
    }
   ],
   "source": [
    "len(split_tokens)"
   ]
  },
  {
   "cell_type": "code",
   "execution_count": 86,
   "metadata": {},
   "outputs": [
    {
     "data": {
      "text/plain": [
       "['김동인',\n",
       " '<광염',\n",
       " '소나타>',\n",
       " '독자는',\n",
       " '이제',\n",
       " '내가',\n",
       " '쓰려는',\n",
       " '이야기를,',\n",
       " '유럽의',\n",
       " '어떤',\n",
       " '곳에',\n",
       " '생긴',\n",
       " '일이라고',\n",
       " '생각하여도',\n",
       " '좋다.',\n",
       " '혹',\n",
       " '은',\n",
       " '사십',\n",
       " '오십',\n",
       " '년',\n",
       " '뒤에',\n",
       " '조선을',\n",
       " '무대로',\n",
       " '생겨날',\n",
       " '이야기라고',\n",
       " '생각하여도',\n",
       " '좋다.',\n",
       " '다만,',\n",
       " '이',\n",
       " '지구상',\n",
       " '의',\n",
       " '어떠한',\n",
       " '곳에',\n",
       " '이러한',\n",
       " '일이',\n",
       " '있었는지도',\n",
       " '모르겠다,',\n",
       " '있는지도',\n",
       " '모르겠다,',\n",
       " '혹은',\n",
       " '있을지도',\n",
       " '모',\n",
       " '르겠다,',\n",
       " '가능성뿐은',\n",
       " '있다―---이만치',\n",
       " '알아두면',\n",
       " '그만이다.',\n",
       " '그런지라,',\n",
       " '내가',\n",
       " '여기',\n",
       " '쓰려는',\n",
       " '이야기의',\n",
       " '주인공',\n",
       " '되는',\n",
       " '백성수(白性洙)를',\n",
       " '혹은',\n",
       " '알벨트라',\n",
       " '생각',\n",
       " '하여도',\n",
       " '좋을',\n",
       " '것이요',\n",
       " '짐이라',\n",
       " '생각하여도',\n",
       " '좋을',\n",
       " '것이요',\n",
       " '또는',\n",
       " '호모(胡某)나',\n",
       " '기무라모(木村某)',\n",
       " '로',\n",
       " '생각하여도',\n",
       " '괜찮다.',\n",
       " '다만',\n",
       " '사람이라',\n",
       " '하는',\n",
       " '동물을',\n",
       " '주인공삼아',\n",
       " '가지고',\n",
       " '사람의',\n",
       " '세상에서',\n",
       " '생',\n",
       " '겨난',\n",
       " '일인',\n",
       " '줄만',\n",
       " '알면…….',\n",
       " '이러한',\n",
       " '전제로써,',\n",
       " '자',\n",
       " '그러면',\n",
       " '내',\n",
       " '이야기를',\n",
       " '시작하자.',\n",
       " '*',\n",
       " '“기회(찬스)라',\n",
       " '하는',\n",
       " '것이',\n",
       " '사람을',\n",
       " '망하게도',\n",
       " '하고',\n",
       " '흥하게도',\n",
       " '하는']"
      ]
     },
     "execution_count": 86,
     "metadata": {},
     "output_type": "execute_result"
    }
   ],
   "source": [
    "split_tokens[:100]"
   ]
  },
  {
   "cell_type": "markdown",
   "metadata": {},
   "source": [
    "## Regular Expressions"
   ]
  },
  {
   "cell_type": "code",
   "execution_count": 89,
   "metadata": {},
   "outputs": [],
   "source": [
    "import re\n",
    "\n",
    "wordlist = [w for w in nltk.corpus.words.words('en') if w.islower() ]"
   ]
  },
  {
   "cell_type": "code",
   "execution_count": 91,
   "metadata": {},
   "outputs": [
    {
     "data": {
      "text/plain": [
       "210687"
      ]
     },
     "execution_count": 91,
     "metadata": {},
     "output_type": "execute_result"
    }
   ],
   "source": [
    "len(wordlist)"
   ]
  },
  {
   "cell_type": "code",
   "execution_count": 97,
   "metadata": {},
   "outputs": [],
   "source": [
    "# find words with 'ed' ending\n",
    "\n",
    "ed_words = [w for w in wordlist if re.search('ed$', w)]"
   ]
  },
  {
   "cell_type": "code",
   "execution_count": 96,
   "metadata": {},
   "outputs": [
    {
     "data": {
      "text/plain": [
       "(9148,\n",
       " ['abaissed',\n",
       "  'amiced',\n",
       "  'axed',\n",
       "  'bedded',\n",
       "  'bespurred',\n",
       "  'blasted',\n",
       "  'broadhearted',\n",
       "  'cannoned',\n",
       "  'childed',\n",
       "  'coiled',\n",
       "  'corrugated',\n",
       "  'crosstied',\n",
       "  'deminatured',\n",
       "  'distempered',\n",
       "  'embed',\n",
       "  'fanged',\n",
       "  'flapmouthed',\n",
       "  'frenzied',\n",
       "  'godded',\n",
       "  'haustellated',\n",
       "  'hydrated',\n",
       "  'inflated',\n",
       "  'jagged',\n",
       "  'largemouthed',\n",
       "  'maladjusted',\n",
       "  'misfortuned',\n",
       "  'multiramified',\n",
       "  'nonchurched',\n",
       "  'nontimbered',\n",
       "  'outplayed',\n",
       "  'overseed',\n",
       "  'pauciradiated',\n",
       "  'pileolated',\n",
       "  'portalled',\n",
       "  'proudhearted',\n",
       "  'raptured',\n",
       "  'rheumed',\n",
       "  'scalled',\n",
       "  'semidetached',\n",
       "  'sheephearted',\n",
       "  'slowheaded',\n",
       "  'spitted',\n",
       "  'strophiolated',\n",
       "  'superrheumatized',\n",
       "  'tetrahydrated',\n",
       "  'trammeled',\n",
       "  'twizzened',\n",
       "  'unagreed',\n",
       "  'unassented',\n",
       "  'unbedashed',\n",
       "  'unbooted',\n",
       "  'uncantonized',\n",
       "  'unchristened',\n",
       "  'uncomplimented',\n",
       "  'uncooked',\n",
       "  'undammed',\n",
       "  'underaccommodated',\n",
       "  'undevoted',\n",
       "  'undisplanted',\n",
       "  'unedified',\n",
       "  'unenlisted',\n",
       "  'unexcogitated',\n",
       "  'unfederated',\n",
       "  'unforewarned',\n",
       "  'unglassed',\n",
       "  'unharmonized',\n",
       "  'uniauriculated',\n",
       "  'unindicated',\n",
       "  'unintruded',\n",
       "  'unlanded',\n",
       "  'unmaddened',\n",
       "  'unministered',\n",
       "  'unneglected',\n",
       "  'unpacked',\n",
       "  'unperpetrated',\n",
       "  'unpooled',\n",
       "  'unpromulgated',\n",
       "  'unrallied',\n",
       "  'unrelieved',\n",
       "  'unrevolved',\n",
       "  'unsaponified',\n",
       "  'unsewered',\n",
       "  'unslopped',\n",
       "  'unsprinkled',\n",
       "  'unstultified',\n",
       "  'unsympathized',\n",
       "  'untissued',\n",
       "  'untunneled',\n",
       "  'unwafted',\n",
       "  'unyeaned',\n",
       "  'warped',\n",
       "  'wombed'])"
      ]
     },
     "execution_count": 96,
     "metadata": {},
     "output_type": "execute_result"
    }
   ],
   "source": [
    "len(ed_words), ed_words[::100]"
   ]
  },
  {
   "cell_type": "code",
   "execution_count": 98,
   "metadata": {},
   "outputs": [],
   "source": [
    "가로끝나는단어들 = [w for w in mytokens if re.search('가$', w)]"
   ]
  },
  {
   "cell_type": "code",
   "execution_count": 99,
   "metadata": {},
   "outputs": [
    {
     "data": {
      "text/plain": [
       "['내가',\n",
       " '내가',\n",
       " '신사가',\n",
       " '경우가',\n",
       " '음악비평가',\n",
       " '신사가',\n",
       " '수가',\n",
       " '가',\n",
       " '가',\n",
       " '작가',\n",
       " '내가',\n",
       " '수가',\n",
       " '두들기기가',\n",
       " '그가',\n",
       " '가',\n",
       " '둔다든가',\n",
       " '권고가',\n",
       " '장래가',\n",
       " '가',\n",
       " '백성수가',\n",
       " '아버지가',\n",
       " '음악비평가가',\n",
       " '비평가',\n",
       " '음악가가',\n",
       " '음악가가',\n",
       " '게다가',\n",
       " '피아노가',\n",
       " '소리가',\n",
       " '네로가',\n",
       " '소리가',\n",
       " '내가',\n",
       " '떼려다가',\n",
       " '피아노가',\n",
       " '숨소리가',\n",
       " '떨다가',\n",
       " '갖다가',\n",
       " '알레그로가',\n",
       " '알레그로가',\n",
       " '기교가',\n",
       " '탄주가',\n",
       " '거기다가',\n",
       " '귀기가',\n",
       " '가',\n",
       " '그가',\n",
       " '뭐인가',\n",
       " '아닌가',\n",
       " '자네가',\n",
       " '아들인가',\n",
       " '내가',\n",
       " '버리기가',\n",
       " '내가',\n",
       " '알레그로가',\n",
       " '내가',\n",
       " '내가',\n",
       " '그가',\n",
       " '자기가',\n",
       " '숨소리가',\n",
       " '그가',\n",
       " '자장가',\n",
       " '그가',\n",
       " '수가',\n",
       " '음계가',\n",
       " '따가',\n",
       " '차도가',\n",
       " '내가',\n",
       " '달음박질하다가',\n",
       " '내가',\n",
       " '어머니가',\n",
       " '수가',\n",
       " '헤매다가',\n",
       " '내가',\n",
       " '내가',\n",
       " '편지가',\n",
       " '너덧시가',\n",
       " '제가',\n",
       " '가',\n",
       " '갖다가',\n",
       " '볏짚에다가',\n",
       " '나오려다가',\n",
       " '그가',\n",
       " '성수가',\n",
       " '그러다가',\n",
       " '침대가',\n",
       " '피아노가',\n",
       " '게다가',\n",
       " '귀기가',\n",
       " '필요가',\n",
       " '제가',\n",
       " '어머니가',\n",
       " '미안하기가',\n",
       " '듣기가',\n",
       " '기회가',\n",
       " '다가',\n",
       " '달아나다가',\n",
       " '구경하다가',\n",
       " '제가',\n",
       " '무겁다가',\n",
       " '번수가',\n",
       " '도리가',\n",
       " '모씨가']"
      ]
     },
     "execution_count": 99,
     "metadata": {},
     "output_type": "execute_result"
    }
   ],
   "source": [
    "가로끝나는단어들[:100]"
   ]
  },
  {
   "cell_type": "markdown",
   "metadata": {},
   "source": [
    "x$ : for ending with x\n",
    "^x : starting with x"
   ]
  },
  {
   "cell_type": "code",
   "execution_count": 100,
   "metadata": {},
   "outputs": [],
   "source": [
    "# find words with a string starts with 'lo' using '^' in the pattern\n",
    "a = [w for w in wordlist if re.search('^lo', w)]"
   ]
  },
  {
   "cell_type": "code",
   "execution_count": 102,
   "metadata": {},
   "outputs": [
    {
     "data": {
      "text/plain": [
       "['lo', 'lockage', 'logicity', 'longirostral', 'lorenzenite', 'lovingly']"
      ]
     },
     "execution_count": 102,
     "metadata": {},
     "output_type": "execute_result"
    }
   ],
   "source": [
    "a[::150]"
   ]
  },
  {
   "cell_type": "code",
   "execution_count": 103,
   "metadata": {},
   "outputs": [
    {
     "data": {
      "text/plain": [
       "['abjectly',\n",
       " 'adjuster',\n",
       " 'dejected',\n",
       " 'dejectly',\n",
       " 'injector',\n",
       " 'majestic',\n",
       " 'objectee',\n",
       " 'objector',\n",
       " 'rejecter',\n",
       " 'rejector',\n",
       " 'unjilted',\n",
       " 'unjolted',\n",
       " 'unjustly']"
      ]
     },
     "execution_count": 103,
     "metadata": {},
     "output_type": "execute_result"
    }
   ],
   "source": [
    "# woldcard (.) matches any single character among words of length 8.\n",
    "[w for w in wordlist if re.search('^..j..t..$', w)]"
   ]
  },
  {
   "cell_type": "code",
   "execution_count": 104,
   "metadata": {},
   "outputs": [
    {
     "data": {
      "text/plain": [
       "['abjectedness',\n",
       " 'abjection',\n",
       " 'abjective',\n",
       " 'abjectly',\n",
       " 'abjectness',\n",
       " 'adjection',\n",
       " 'adjectional',\n",
       " 'adjectival',\n",
       " 'adjectivally',\n",
       " 'adjective',\n",
       " 'adjectively',\n",
       " 'adjectivism',\n",
       " 'adjectivitis',\n",
       " 'adjustable',\n",
       " 'adjustably',\n",
       " 'adjustage',\n",
       " 'adjustation',\n",
       " 'adjuster',\n",
       " 'adjustive',\n",
       " 'adjustment',\n",
       " 'antejentacular',\n",
       " 'antiprojectivity',\n",
       " 'bijouterie',\n",
       " 'coadjustment',\n",
       " 'cojusticiar',\n",
       " 'conjective',\n",
       " 'conjecturable',\n",
       " 'conjecturably',\n",
       " 'conjectural',\n",
       " 'conjecturalist',\n",
       " 'conjecturality',\n",
       " 'conjecturally',\n",
       " 'conjecture',\n",
       " 'conjecturer',\n",
       " 'coprojector',\n",
       " 'counterobjection',\n",
       " 'dejected',\n",
       " 'dejectedly',\n",
       " 'dejectedness',\n",
       " 'dejectile',\n",
       " 'dejection',\n",
       " 'dejectly',\n",
       " 'dejectory',\n",
       " 'dejecture',\n",
       " 'disjection',\n",
       " 'guanajuatite',\n",
       " 'inadjustability',\n",
       " 'inadjustable',\n",
       " 'injectable',\n",
       " 'injection',\n",
       " 'injector',\n",
       " 'injustice',\n",
       " 'insubjection',\n",
       " 'interjection',\n",
       " 'interjectional',\n",
       " 'interjectionalize',\n",
       " 'interjectionally',\n",
       " 'interjectionary',\n",
       " 'interjectionize',\n",
       " 'interjectiveness',\n",
       " 'interjector',\n",
       " 'interjectorily',\n",
       " 'interjectory',\n",
       " 'interjectural',\n",
       " 'interobjective',\n",
       " 'intersubjective',\n",
       " 'introjection',\n",
       " 'introjective',\n",
       " 'majestic',\n",
       " 'majestical',\n",
       " 'majestically',\n",
       " 'majesticalness',\n",
       " 'majesticness',\n",
       " 'majestious',\n",
       " 'majestyship',\n",
       " 'maladjusted',\n",
       " 'maladjustive',\n",
       " 'maladjustment',\n",
       " 'microinjection',\n",
       " 'microprojector',\n",
       " 'misconjecture',\n",
       " 'munjistin',\n",
       " 'nonadjectival',\n",
       " 'nonadjustable',\n",
       " 'nonadjustive',\n",
       " 'nonadjustment',\n",
       " 'nonconjectural',\n",
       " 'nonejection',\n",
       " 'nonobjection',\n",
       " 'nonobjective',\n",
       " 'nonprojection',\n",
       " 'nonprojective',\n",
       " 'nonprojectively',\n",
       " 'nonrejection',\n",
       " 'nonsubjective',\n",
       " 'objectable',\n",
       " 'objectation',\n",
       " 'objectative',\n",
       " 'objectee',\n",
       " 'objecthood',\n",
       " 'objectification',\n",
       " 'objectify',\n",
       " 'objection',\n",
       " 'objectionability',\n",
       " 'objectionable',\n",
       " 'objectionableness',\n",
       " 'objectionably',\n",
       " 'objectional',\n",
       " 'objectioner',\n",
       " 'objectionist',\n",
       " 'objectival',\n",
       " 'objectivate',\n",
       " 'objectivation',\n",
       " 'objective',\n",
       " 'objectively',\n",
       " 'objectiveness',\n",
       " 'objectivism',\n",
       " 'objectivist',\n",
       " 'objectivistic',\n",
       " 'objectivity',\n",
       " 'objectivize',\n",
       " 'objectization',\n",
       " 'objectize',\n",
       " 'objectless',\n",
       " 'objectlessly',\n",
       " 'objectlessness',\n",
       " 'objector',\n",
       " 'outjetting',\n",
       " 'overjutting',\n",
       " 'overobjectify',\n",
       " 'preadjectival',\n",
       " 'preadjective',\n",
       " 'preadjustable',\n",
       " 'preadjustment',\n",
       " 'preconjecture',\n",
       " 'prejustification',\n",
       " 'prejustify',\n",
       " 'preobjection',\n",
       " 'preobjective',\n",
       " 'prerejection',\n",
       " 'presubjection',\n",
       " 'projectable',\n",
       " 'projectedly',\n",
       " 'projectile',\n",
       " 'projecting',\n",
       " 'projectingly',\n",
       " 'projection',\n",
       " 'projectional',\n",
       " 'projectionist',\n",
       " 'projective',\n",
       " 'projectively',\n",
       " 'projectivity',\n",
       " 'projector',\n",
       " 'projectress',\n",
       " 'projectrix',\n",
       " 'projecture',\n",
       " 'readjustable',\n",
       " 'readjuster',\n",
       " 'readjustment',\n",
       " 'rejectable',\n",
       " 'rejectableness',\n",
       " 'rejectage',\n",
       " 'rejectamenta',\n",
       " 'rejecter',\n",
       " 'rejectingly',\n",
       " 'rejection',\n",
       " 'rejective',\n",
       " 'rejectment',\n",
       " 'rejector',\n",
       " 'rejustification',\n",
       " 'rejustify',\n",
       " 'reobjectivization',\n",
       " 'reobjectivize',\n",
       " 'resubjection',\n",
       " 'retrojection',\n",
       " 'semiadjectively',\n",
       " 'subjectability',\n",
       " 'subjectable',\n",
       " 'subjectdom',\n",
       " 'subjected',\n",
       " 'subjectedly',\n",
       " 'subjectedness',\n",
       " 'subjecthood',\n",
       " 'subjectibility',\n",
       " 'subjectible',\n",
       " 'subjectification',\n",
       " 'subjectify',\n",
       " 'subjectile',\n",
       " 'subjection',\n",
       " 'subjectional',\n",
       " 'subjectist',\n",
       " 'subjective',\n",
       " 'subjectively',\n",
       " 'subjectiveness',\n",
       " 'subjectivism',\n",
       " 'subjectivist',\n",
       " 'subjectivistic',\n",
       " 'subjectivistically',\n",
       " 'subjectivity',\n",
       " 'subjectivize',\n",
       " 'subjectivoidealistic',\n",
       " 'subjectless',\n",
       " 'subjectlike',\n",
       " 'subjectness',\n",
       " 'subjectship',\n",
       " 'superdejection',\n",
       " 'superinjustice',\n",
       " 'superjustification',\n",
       " 'superobjection',\n",
       " 'superobjectionable',\n",
       " 'teleobjective',\n",
       " 'trajectile',\n",
       " 'trajection',\n",
       " 'trajectitious',\n",
       " 'trajectory',\n",
       " 'transsubjective',\n",
       " 'unadjectived',\n",
       " 'unadjustably',\n",
       " 'unadjusted',\n",
       " 'unadjustment',\n",
       " 'unconjecturable',\n",
       " 'unconjectured',\n",
       " 'undejected',\n",
       " 'underadjustment',\n",
       " 'unejected',\n",
       " 'uninjectable',\n",
       " 'uninjected',\n",
       " 'uninterjected',\n",
       " 'unjesting',\n",
       " 'unjilted',\n",
       " 'unjolted',\n",
       " 'unjostled',\n",
       " 'unjustice',\n",
       " 'unjusticiable',\n",
       " 'unjustifiable',\n",
       " 'unjustifiableness',\n",
       " 'unjustifiably',\n",
       " 'unjustified',\n",
       " 'unjustifiedly',\n",
       " 'unjustifiedness',\n",
       " 'unjustify',\n",
       " 'unjustled',\n",
       " 'unjustly',\n",
       " 'unjustness',\n",
       " 'unmajestic',\n",
       " 'unobjected',\n",
       " 'unobjectionable',\n",
       " 'unobjectionableness',\n",
       " 'unobjectionably',\n",
       " 'unobjectional',\n",
       " 'unobjective',\n",
       " 'unprojected',\n",
       " 'unprojecting',\n",
       " 'unrejectable',\n",
       " 'unsubjectable',\n",
       " 'unsubjected',\n",
       " 'unsubjectedness',\n",
       " 'unsubjection',\n",
       " 'unsubjective',\n",
       " 'unsubjectlike']"
      ]
     },
     "execution_count": 104,
     "metadata": {},
     "output_type": "execute_result"
    }
   ],
   "source": [
    "[w for w in wordlist if re.search('..j..t..', w)]"
   ]
  },
  {
   "cell_type": "code",
   "execution_count": 105,
   "metadata": {},
   "outputs": [
    {
     "data": {
      "text/plain": [
       "['ma',\n",
       " 'maam',\n",
       " 'maamselle',\n",
       " 'mabi',\n",
       " 'mabolo',\n",
       " 'mac',\n",
       " 'macaasim',\n",
       " 'macabre',\n",
       " 'macabresque',\n",
       " 'macaco',\n",
       " 'macadam',\n",
       " 'macadamite',\n",
       " 'macadamization',\n",
       " 'macadamize',\n",
       " 'macadamizer']"
      ]
     },
     "execution_count": 105,
     "metadata": {},
     "output_type": "execute_result"
    }
   ],
   "source": [
    "[w for w in wordlist if re.search('^mai?', w)][:15] # i may or may not, but starting with ma"
   ]
  },
  {
   "cell_type": "code",
   "execution_count": 107,
   "metadata": {},
   "outputs": [
    {
     "data": {
      "text/plain": [
       "['ma',\n",
       " 'maam',\n",
       " 'maamselle',\n",
       " 'mabi',\n",
       " 'mabolo',\n",
       " 'mac',\n",
       " 'macaasim',\n",
       " 'macabre',\n",
       " 'macabresque',\n",
       " 'macaco',\n",
       " 'macadam',\n",
       " 'macadamite',\n",
       " 'macadamization',\n",
       " 'macadamize',\n",
       " 'macadamizer']"
      ]
     },
     "execution_count": 107,
     "metadata": {},
     "output_type": "execute_result"
    }
   ],
   "source": [
    "[w for w in wordlist if re.search('^ma', w)][:15] # i may or may not, but starting with ma"
   ]
  },
  {
   "cell_type": "code",
   "execution_count": 25,
   "metadata": {},
   "outputs": [
    {
     "data": {
      "text/plain": [
       "['gold', 'golf', 'hold', 'hole']"
      ]
     },
     "execution_count": 25,
     "metadata": {},
     "output_type": "execute_result"
    }
   ],
   "source": [
    "[w for w in wordlist if re.search('^[ghi][mno][jlk][def]$', w)]"
   ]
  },
  {
   "cell_type": "code",
   "execution_count": 26,
   "metadata": {},
   "outputs": [
    {
     "data": {
      "text/plain": [
       "['gold', 'golf', 'hold', 'hole']"
      ]
     },
     "execution_count": 26,
     "metadata": {},
     "output_type": "execute_result"
    }
   ],
   "source": [
    "[w for w in wordlist if re.search('^[ghi][mno][jlk][efd]$', w)]"
   ]
  },
  {
   "cell_type": "code",
   "execution_count": 108,
   "metadata": {},
   "outputs": [
    {
     "data": {
      "text/plain": [
       "['g',\n",
       " 'ghoom',\n",
       " 'gig',\n",
       " 'giggling',\n",
       " 'gigolo',\n",
       " 'gilim',\n",
       " 'gill',\n",
       " 'gilling',\n",
       " 'gilo',\n",
       " 'gim',\n",
       " 'gin',\n",
       " 'ging',\n",
       " 'gingili',\n",
       " 'gink',\n",
       " 'ginkgo',\n",
       " 'ginning',\n",
       " 'gio',\n",
       " 'glink',\n",
       " 'glom',\n",
       " 'glonoin',\n",
       " 'gloom',\n",
       " 'glooming',\n",
       " 'gnomon',\n",
       " 'go',\n",
       " 'gog',\n",
       " 'gogo',\n",
       " 'goi',\n",
       " 'going',\n",
       " 'gol',\n",
       " 'goli',\n",
       " 'gon',\n",
       " 'gong',\n",
       " 'gonion',\n",
       " 'goo',\n",
       " 'googol',\n",
       " 'gook',\n",
       " 'gool',\n",
       " 'goon',\n",
       " 'h',\n",
       " 'hi',\n",
       " 'high',\n",
       " 'hill',\n",
       " 'him',\n",
       " 'hin',\n",
       " 'hing',\n",
       " 'hinoki',\n",
       " 'ho',\n",
       " 'hog',\n",
       " 'hoggin',\n",
       " 'hogling',\n",
       " 'hoi',\n",
       " 'hoin',\n",
       " 'holing',\n",
       " 'holl',\n",
       " 'hollin',\n",
       " 'hollo',\n",
       " 'hollong',\n",
       " 'holm',\n",
       " 'homo',\n",
       " 'homologon',\n",
       " 'hong',\n",
       " 'honk',\n",
       " 'hook',\n",
       " 'hoon',\n",
       " 'i',\n",
       " 'igloo',\n",
       " 'ihi',\n",
       " 'ilk',\n",
       " 'ill',\n",
       " 'imi',\n",
       " 'imino',\n",
       " 'immi',\n",
       " 'in',\n",
       " 'ing',\n",
       " 'ingoing',\n",
       " 'inion',\n",
       " 'ink',\n",
       " 'inkling',\n",
       " 'inlook',\n",
       " 'inn',\n",
       " 'inning',\n",
       " 'io',\n",
       " 'ion',\n",
       " 'j',\n",
       " 'jhool',\n",
       " 'jig',\n",
       " 'jing',\n",
       " 'jingling',\n",
       " 'jingo',\n",
       " 'jinjili',\n",
       " 'jink',\n",
       " 'jinn',\n",
       " 'jinni',\n",
       " 'jo',\n",
       " 'jog',\n",
       " 'johnin',\n",
       " 'join',\n",
       " 'joining',\n",
       " 'joll',\n",
       " 'joom',\n",
       " 'k',\n",
       " 'kiki',\n",
       " 'kil',\n",
       " 'kilhig',\n",
       " 'kilim',\n",
       " 'kill',\n",
       " 'killing',\n",
       " 'kiln',\n",
       " 'kilo',\n",
       " 'kim',\n",
       " 'kimono',\n",
       " 'kin',\n",
       " 'king',\n",
       " 'kingling',\n",
       " 'kink',\n",
       " 'kino',\n",
       " 'klom',\n",
       " 'knoll',\n",
       " 'ko',\n",
       " 'kohl',\n",
       " 'koi',\n",
       " 'koil',\n",
       " 'koilon',\n",
       " 'koinon',\n",
       " 'kokil',\n",
       " 'kokio',\n",
       " 'koko',\n",
       " 'kokoon',\n",
       " 'kolo',\n",
       " 'kolokolo',\n",
       " 'kon',\n",
       " 'kongoni',\n",
       " 'konini',\n",
       " 'l',\n",
       " 'li',\n",
       " 'lignin',\n",
       " 'liin',\n",
       " 'likin',\n",
       " 'liking',\n",
       " 'liknon',\n",
       " 'lill',\n",
       " 'lim',\n",
       " 'liming',\n",
       " 'limn',\n",
       " 'limonin',\n",
       " 'lin',\n",
       " 'ling',\n",
       " 'lingo',\n",
       " 'linin',\n",
       " 'lining',\n",
       " 'link',\n",
       " 'linking',\n",
       " 'linn',\n",
       " 'lino',\n",
       " 'linolin',\n",
       " 'linon',\n",
       " 'lion',\n",
       " 'lo',\n",
       " 'log',\n",
       " 'loggin',\n",
       " 'logging',\n",
       " 'login',\n",
       " 'logion',\n",
       " 'logoi',\n",
       " 'loin',\n",
       " 'loll',\n",
       " 'long',\n",
       " 'longing',\n",
       " 'loo',\n",
       " 'look',\n",
       " 'looking',\n",
       " 'loom',\n",
       " 'looming',\n",
       " 'loon',\n",
       " 'm',\n",
       " 'mho',\n",
       " 'mi',\n",
       " 'mig',\n",
       " 'miglio',\n",
       " 'mignon',\n",
       " 'mijl',\n",
       " 'mil',\n",
       " 'milk',\n",
       " 'milking',\n",
       " 'mill',\n",
       " 'milling',\n",
       " 'million',\n",
       " 'milo',\n",
       " 'mim',\n",
       " 'min',\n",
       " 'ming',\n",
       " 'minikin',\n",
       " 'minim',\n",
       " 'mining',\n",
       " 'minion',\n",
       " 'mink',\n",
       " 'minning',\n",
       " 'mino',\n",
       " 'mo',\n",
       " 'mog',\n",
       " 'mogo',\n",
       " 'moho',\n",
       " 'moil',\n",
       " 'moiling',\n",
       " 'moio',\n",
       " 'mojo',\n",
       " 'moki',\n",
       " 'moko',\n",
       " 'momo',\n",
       " 'mon',\n",
       " 'mong',\n",
       " 'monk',\n",
       " 'mono',\n",
       " 'moo',\n",
       " 'mooing',\n",
       " 'mool',\n",
       " 'moon',\n",
       " 'mooning',\n",
       " 'n',\n",
       " 'ni',\n",
       " 'nig',\n",
       " 'niggling',\n",
       " 'nigh',\n",
       " 'nil',\n",
       " 'nim',\n",
       " 'ninon',\n",
       " 'niog',\n",
       " 'no',\n",
       " 'nog',\n",
       " 'noggin',\n",
       " 'nogging',\n",
       " 'noil',\n",
       " 'noll',\n",
       " 'nolo',\n",
       " 'non',\n",
       " 'nonillion',\n",
       " 'nonion',\n",
       " 'nook',\n",
       " 'nooking',\n",
       " 'noon',\n",
       " 'nooning',\n",
       " 'o',\n",
       " 'oh',\n",
       " 'ohm',\n",
       " 'oho',\n",
       " 'oii',\n",
       " 'oil',\n",
       " 'oki',\n",
       " 'olio',\n",
       " 'olm',\n",
       " 'om',\n",
       " 'on',\n",
       " 'ongoing',\n",
       " 'onion',\n",
       " 'onlook',\n",
       " 'onlooking',\n",
       " 'oolong']"
      ]
     },
     "execution_count": 108,
     "metadata": {},
     "output_type": "execute_result"
    }
   ],
   "source": [
    "ghi = [w for w in wordlist if re.search('^[ghijklmno]+$', w)]\n",
    "ghi"
   ]
  },
  {
   "cell_type": "code",
   "execution_count": 28,
   "metadata": {},
   "outputs": [
    {
     "data": {
      "text/plain": [
       "(257, ['g', 'ghoom', 'gig', 'giggling', 'gigolo'])"
      ]
     },
     "execution_count": 28,
     "metadata": {},
     "output_type": "execute_result"
    }
   ],
   "source": [
    "ghi2 = [w for w in wordlist if re.search('^[g-o]+$', w)]\n",
    "len(ghi2), ghi2[:5]"
   ]
  },
  {
   "cell_type": "code",
   "execution_count": 29,
   "metadata": {},
   "outputs": [
    {
     "data": {
      "text/plain": [
       "(1963, ['a', 'aa', 'aal', 'aam', 'aba'])"
      ]
     },
     "execution_count": 29,
     "metadata": {},
     "output_type": "execute_result"
    }
   ],
   "source": [
    "abc = [w for w in wordlist if re.search('^[a-fj-o]+$', w)]\n",
    "len(abc), abc[:5]"
   ]
  },
  {
   "cell_type": "code",
   "execution_count": 30,
   "metadata": {},
   "outputs": [
    {
     "data": {
      "text/plain": [
       "['a',\n",
       " 'anemonal',\n",
       " 'belee',\n",
       " 'cadalene',\n",
       " 'coll',\n",
       " 'dod',\n",
       " 'feel',\n",
       " 'kenno',\n",
       " 'mack',\n",
       " 'namable']"
      ]
     },
     "execution_count": 30,
     "metadata": {},
     "output_type": "execute_result"
    }
   ],
   "source": [
    "abc[::200]"
   ]
  },
  {
   "cell_type": "code",
   "execution_count": 31,
   "metadata": {},
   "outputs": [
    {
     "data": {
      "text/plain": [
       "(54165, ['g', 'ga', 'gab', 'gabardine', 'gabbard'])"
      ]
     },
     "execution_count": 31,
     "metadata": {},
     "output_type": "execute_result"
    }
   ],
   "source": [
    "# what happens if $ is not used.\n",
    "ghi3 = [w for w in wordlist if re.search('^[ghijklmno]+', w)]\n",
    "len(ghi3), ghi3[:5]"
   ]
  },
  {
   "cell_type": "code",
   "execution_count": 32,
   "metadata": {},
   "outputs": [
    {
     "name": "stdout",
     "output_type": "stream",
     "text": [
      "chat_words:  ['', '!', '!!', '!!!']\n"
     ]
    },
    {
     "data": {
      "text/plain": [
       "(4,\n",
       " ['miiiiiiiiiiiiinnnnnnnnnnneeeeeeeeee',\n",
       "  'miiiiiinnnnnnnnnneeeeeeee',\n",
       "  'mine',\n",
       "  'mmmmmmmmiiiiiiiiinnnnnnnnneeeeeeee'])"
      ]
     },
     "execution_count": 32,
     "metadata": {},
     "output_type": "execute_result"
    }
   ],
   "source": [
    "chat_words = sorted(set(w for w in nltk.corpus.nps_chat.words()))\n",
    "print('chat_words: ', chat_words[:4])\n",
    "\n",
    "result = [w for w in chat_words if re.search('^m+i+n+e+$', w)]\n",
    "len(result), result[:5]"
   ]
  },
  {
   "cell_type": "code",
   "execution_count": 33,
   "metadata": {},
   "outputs": [
    {
     "data": {
      "text/plain": [
       "['0.0085', '0.05', '0.1', '0.16', '0.2', '0.25', '0.28', '0.3', '0.4', '0.5']"
      ]
     },
     "execution_count": 33,
     "metadata": {},
     "output_type": "execute_result"
    }
   ],
   "source": [
    "wsj = sorted(set(nltk.corpus.treebank.words()))\n",
    "\n",
    "dec = [w for w in wsj if re.search('^[0-9]+\\.[0-9]+$', w)]\n",
    "dec[:10]"
   ]
  },
  {
   "cell_type": "code",
   "execution_count": 34,
   "metadata": {},
   "outputs": [
    {
     "name": "stdout",
     "output_type": "stream",
     "text": [
      "None\n"
     ]
    }
   ],
   "source": [
    "print(re.search('^[0-9]+\\.[0-9]+$', \"0.1 0.2 0.3 999.123\"))"
   ]
  },
  {
   "cell_type": "code",
   "execution_count": 35,
   "metadata": {},
   "outputs": [
    {
     "name": "stdout",
     "output_type": "stream",
     "text": [
      "<re.Match object; span=(0, 11), match='23490.11111'>\n"
     ]
    }
   ],
   "source": [
    "print(re.search('^[0-9]+\\.[0-9]+$', \"23490.11111\"))"
   ]
  },
  {
   "cell_type": "code",
   "execution_count": 36,
   "metadata": {},
   "outputs": [
    {
     "data": {
      "text/plain": [
       "['C$', 'US$']"
      ]
     },
     "execution_count": 36,
     "metadata": {},
     "output_type": "execute_result"
    }
   ],
   "source": [
    "[w for w in wsj if re.search('^[A-Z]+\\$$', w)]"
   ]
  },
  {
   "cell_type": "code",
   "execution_count": 37,
   "metadata": {},
   "outputs": [
    {
     "data": {
      "text/plain": [
       "['1614', '1637', '1787', '1901', '1903']"
      ]
     },
     "execution_count": 37,
     "metadata": {},
     "output_type": "execute_result"
    }
   ],
   "source": [
    "[w for w in wsj if re.search('^[0-9]{4}$', w)][:5]"
   ]
  },
  {
   "cell_type": "code",
   "execution_count": 38,
   "metadata": {},
   "outputs": [
    {
     "data": {
      "text/plain": [
       "['10-day',\n",
       " '10-lap',\n",
       " '10-year',\n",
       " '100-share',\n",
       " '12-point',\n",
       " '12-year',\n",
       " '14-hour',\n",
       " '15-day',\n",
       " '150-point',\n",
       " '190-point',\n",
       " '20-point',\n",
       " '20-stock',\n",
       " '21-month',\n",
       " '237-seat',\n",
       " '240-page',\n",
       " '27-year',\n",
       " '30-day',\n",
       " '30-point',\n",
       " '30-share',\n",
       " '30-year',\n",
       " '300-day',\n",
       " '36-day',\n",
       " '36-store',\n",
       " '42-year',\n",
       " '50-state',\n",
       " '500-stock',\n",
       " '52-week',\n",
       " '69-point',\n",
       " '84-month',\n",
       " '87-store',\n",
       " '90-day']"
      ]
     },
     "execution_count": 38,
     "metadata": {},
     "output_type": "execute_result"
    }
   ],
   "source": [
    "[w for w in wsj if re.search('^[0-9]+-[a-z]{3,5}$', w)]"
   ]
  },
  {
   "cell_type": "code",
   "execution_count": 39,
   "metadata": {},
   "outputs": [
    {
     "data": {
      "text/plain": [
       "['black-and-white',\n",
       " 'bread-and-butter',\n",
       " 'father-in-law',\n",
       " 'machine-gun-toting',\n",
       " 'savings-and-loan']"
      ]
     },
     "execution_count": 39,
     "metadata": {},
     "output_type": "execute_result"
    }
   ],
   "source": [
    "[w for w in wsj if re.search('^[a-z]{5,}-[a-z]{2,3}-[a-z]{,6}$', w)]"
   ]
  },
  {
   "cell_type": "code",
   "execution_count": 40,
   "metadata": {},
   "outputs": [
    {
     "data": {
      "text/plain": [
       "(1841,\n",
       " ['62%-owned',\n",
       "  'Absorbed',\n",
       "  'According',\n",
       "  'Adopting',\n",
       "  'Advanced',\n",
       "  'Advancing',\n",
       "  'Alfred',\n",
       "  'Allied',\n",
       "  'Annualized',\n",
       "  'Anything'])"
      ]
     },
     "execution_count": 40,
     "metadata": {},
     "output_type": "execute_result"
    }
   ],
   "source": [
    "eding = [w for w in wsj if re.search('(ed|ing)$', w)]\n",
    "len(eding), eding[:10]"
   ]
  },
  {
   "cell_type": "code",
   "execution_count": 41,
   "metadata": {},
   "outputs": [
    {
     "data": {
      "text/plain": [
       "(1969,\n",
       " ['62%-owned',\n",
       "  'Absorbed',\n",
       "  'According',\n",
       "  'Adopting',\n",
       "  'Advanced',\n",
       "  'Advancing',\n",
       "  'Alfred',\n",
       "  'Allied',\n",
       "  'Annualized',\n",
       "  'Anything'])"
      ]
     },
     "execution_count": 41,
     "metadata": {},
     "output_type": "execute_result"
    }
   ],
   "source": [
    "eding2 = [w for w in wsj if re.search('ed|ing$', w)]\n",
    "len(eding2), eding[:10]"
   ]
  },
  {
   "cell_type": "code",
   "execution_count": 42,
   "metadata": {},
   "outputs": [
    {
     "data": {
      "text/plain": [
       "[]"
      ]
     },
     "execution_count": 42,
     "metadata": {},
     "output_type": "execute_result"
    }
   ],
   "source": [
    "d = [w for w in eding if w not in eding2]\n",
    "d"
   ]
  },
  {
   "cell_type": "code",
   "execution_count": 43,
   "metadata": {},
   "outputs": [
    {
     "name": "stdout",
     "output_type": "stream",
     "text": [
      "128\n",
      "128\n",
      "128\n",
      "True True\n"
     ]
    }
   ],
   "source": [
    "edingdiff = [w for w in eding2 if w not in eding]\n",
    "print(len(edingdiff))\n",
    "edingdiff2 = [w for w in eding2 if not (w in eding)]\n",
    "print(len(edingdiff2))\n",
    "edingdiff3 = [w for w in eding2 if not w in eding]\n",
    "print(len(edingdiff3))\n",
    "print(edingdiff == edingdiff2, edingdiff2 == edingdiff3)"
   ]
  },
  {
   "cell_type": "code",
   "execution_count": 44,
   "metadata": {},
   "outputs": [
    {
     "data": {
      "text/plain": [
       "['Biedermann',\n",
       " 'Breeden',\n",
       " 'Cathedral',\n",
       " 'Cedric',\n",
       " 'Confederation',\n",
       " 'Credit',\n",
       " 'Federal',\n",
       " 'Federalist',\n",
       " 'Federation',\n",
       " 'Freddie',\n",
       " 'Frederick',\n",
       " 'Friedrichs',\n",
       " 'Impediments',\n",
       " 'Intermediate',\n",
       " 'Kennedy',\n",
       " 'Media',\n",
       " 'Medical',\n",
       " 'Medicine',\n",
       " 'Mercedes',\n",
       " 'Montedison',\n",
       " 'Nederlanden',\n",
       " 'Needham',\n",
       " 'Proceeds',\n",
       " 'Reddington',\n",
       " 'Redevelopment',\n",
       " 'Roederer',\n",
       " 'Speedway',\n",
       " 'Sweden',\n",
       " 'Teddy',\n",
       " 'Toledo',\n",
       " 'Wednesday',\n",
       " 'Wedtech',\n",
       " 'acknowledge',\n",
       " 'acknowledges',\n",
       " 'agreed-upon',\n",
       " 'allegedly',\n",
       " 'beds',\n",
       " 'buttoned-down',\n",
       " 'closed-end',\n",
       " 'comedies',\n",
       " 'concede',\n",
       " 'concedes',\n",
       " 'credentials',\n",
       " 'credibility',\n",
       " 'credit',\n",
       " 'creditor',\n",
       " 'creditors',\n",
       " 'credits',\n",
       " 'creditworthiness',\n",
       " 'deeds']"
      ]
     },
     "execution_count": 44,
     "metadata": {},
     "output_type": "execute_result"
    }
   ],
   "source": [
    "edingdiff[:50]"
   ]
  },
  {
   "cell_type": "code",
   "execution_count": 45,
   "metadata": {},
   "outputs": [
    {
     "name": "stdout",
     "output_type": "stream",
     "text": [
      "ed_inside:  1178\n",
      "end with ing:  811\n"
     ]
    }
   ],
   "source": [
    "ed_inside = [w for w in wsj if re.search('ed', w)]\n",
    "print('ed_inside: ', len(ed_inside))\n",
    "\n",
    "ing_end = [w for w in wsj if re.search('ing$', w)]\n",
    "print('end with ing: ', len(ing_end))"
   ]
  },
  {
   "cell_type": "code",
   "execution_count": 46,
   "metadata": {},
   "outputs": [
    {
     "data": {
      "text/plain": [
       "1969"
      ]
     },
     "execution_count": 46,
     "metadata": {},
     "output_type": "execute_result"
    }
   ],
   "source": [
    "ed_ing_sum = list(set(ed_inside).union(set(ing_end)))\n",
    "len(ed_ing_sum)"
   ]
  },
  {
   "cell_type": "code",
   "execution_count": 47,
   "metadata": {},
   "outputs": [
    {
     "data": {
      "text/plain": [
       "False"
      ]
     },
     "execution_count": 47,
     "metadata": {},
     "output_type": "execute_result"
    }
   ],
   "source": [
    "ed_ing_sum == eding2"
   ]
  },
  {
   "cell_type": "code",
   "execution_count": 48,
   "metadata": {},
   "outputs": [
    {
     "data": {
      "text/plain": [
       "[]"
      ]
     },
     "execution_count": 48,
     "metadata": {},
     "output_type": "execute_result"
    }
   ],
   "source": [
    "[w for w in ed_ing_sum if w not in eding2]"
   ]
  },
  {
   "cell_type": "code",
   "execution_count": 49,
   "metadata": {},
   "outputs": [
    {
     "data": {
      "text/plain": [
       "[]"
      ]
     },
     "execution_count": 49,
     "metadata": {},
     "output_type": "execute_result"
    }
   ],
   "source": [
    "[w for w in eding2 if w not in ed_ing_sum]"
   ]
  },
  {
   "cell_type": "code",
   "execution_count": 50,
   "metadata": {},
   "outputs": [
    {
     "data": {
      "text/plain": [
       "True"
      ]
     },
     "execution_count": 50,
     "metadata": {},
     "output_type": "execute_result"
    }
   ],
   "source": [
    "ed_ing_sum.sort()\n",
    "eding2.sort()\n",
    "ed_ing_sum == eding2 "
   ]
  },
  {
   "cell_type": "code",
   "execution_count": 51,
   "metadata": {},
   "outputs": [
    {
     "data": {
      "text/plain": [
       "(12593, 'ㄱ', '0x3131')"
      ]
     },
     "execution_count": 51,
     "metadata": {},
     "output_type": "execute_result"
    }
   ],
   "source": [
    "c = 'ㄱ'\n",
    "ord(c), c, hex(ord(c))"
   ]
  },
  {
   "cell_type": "code",
   "execution_count": 52,
   "metadata": {},
   "outputs": [],
   "source": [
    "u = ord(c)"
   ]
  },
  {
   "cell_type": "code",
   "execution_count": 53,
   "metadata": {},
   "outputs": [
    {
     "data": {
      "text/plain": [
       "1"
      ]
     },
     "execution_count": 53,
     "metadata": {},
     "output_type": "execute_result"
    }
   ],
   "source": [
    "u % 16"
   ]
  },
  {
   "cell_type": "code",
   "execution_count": 54,
   "metadata": {},
   "outputs": [
    {
     "data": {
      "text/plain": [
       "'ᄀ'"
      ]
     },
     "execution_count": 54,
     "metadata": {},
     "output_type": "execute_result"
    }
   ],
   "source": [
    "x = '\\u1100'\n",
    "x"
   ]
  },
  {
   "cell_type": "code",
   "execution_count": 55,
   "metadata": {},
   "outputs": [
    {
     "data": {
      "text/plain": [
       "'0xd55c'"
      ]
     },
     "execution_count": 55,
     "metadata": {},
     "output_type": "execute_result"
    }
   ],
   "source": [
    "hex(ord('한'))"
   ]
  },
  {
   "cell_type": "code",
   "execution_count": 56,
   "metadata": {},
   "outputs": [
    {
     "name": "stdout",
     "output_type": "stream",
     "text": [
      "44032 0xac00 44033\n"
     ]
    },
    {
     "data": {
      "text/plain": [
       "(0, 0, 1)"
      ]
     },
     "execution_count": 56,
     "metadata": {},
     "output_type": "execute_result"
    }
   ],
   "source": [
    "cv = ord('각')\n",
    "\n",
    "basevalue = ord('가')\n",
    "print(basevalue, hex(basevalue), cv)\n",
    "jong = (cv - basevalue) % 28\n",
    "jung = ((cv - basevalue)/28) % 21 if jong >= 28 else 0\n",
    "cho = (((cv - basevalue)/28)/21)%19 if jung >= 21 else 0\n",
    "\n",
    "cho, jung, jong "
   ]
  },
  {
   "cell_type": "code",
   "execution_count": 57,
   "metadata": {},
   "outputs": [
    {
     "name": "stdout",
     "output_type": "stream",
     "text": [
      "44032 0xac00 44622\n"
     ]
    },
    {
     "data": {
      "text/plain": [
       "(1, 0, 2)"
      ]
     },
     "execution_count": 57,
     "metadata": {},
     "output_type": "execute_result"
    }
   ],
   "source": [
    "cv = ord('깎')\n",
    "\n",
    "basevalue = ord('가')\n",
    "print(basevalue, hex(basevalue), cv)\n",
    "jong = (cv - basevalue) % 28\n",
    "jung = int((cv - basevalue)/28) % 21 # if jong >= 28 else 0\n",
    "cho = int(((cv - basevalue)/28)/21)%19 # if jung >= 21 else 0\n",
    "\n",
    "cho, jung, jong "
   ]
  },
  {
   "cell_type": "code",
   "execution_count": 58,
   "metadata": {},
   "outputs": [
    {
     "data": {
      "text/plain": [
       "('ᄁ', 'ᅡ', 'ᆩ')"
      ]
     },
     "execution_count": 58,
     "metadata": {},
     "output_type": "execute_result"
    }
   ],
   "source": [
    "a, b, c = chr(cho+0x1100), chr(jung+0x1161), chr(jong+0x11A8 - 1)\n",
    "a, b, c"
   ]
  },
  {
   "cell_type": "code",
   "execution_count": 59,
   "metadata": {},
   "outputs": [
    {
     "name": "stdout",
     "output_type": "stream",
     "text": [
      "44622 0xAE4E 깎\n"
     ]
    }
   ],
   "source": [
    "a,b,c = ord(a) - 0x1100, ord(b) - 0x1161, ord(c) - 0x11A8 + 1\n",
    "syllable = 0xAC00 + a*588 + b*28 + c \n",
    "print(syllable, f'0x{syllable:X}', chr(syllable))"
   ]
  },
  {
   "cell_type": "code",
   "execution_count": 60,
   "metadata": {},
   "outputs": [],
   "source": [
    "def syllable2jamo(kchar):\n",
    "    \"\"\" conversion from 완성형 unicode to 조합형 unicode \"\"\"\n",
    "    cv = ord(kchar)\n",
    "\n",
    "    basevalue = ord('가')\n",
    "    print(basevalue, hex(basevalue), cv)\n",
    "    jong = int(cv - basevalue) % 28\n",
    "    jung = int((cv - basevalue)/28) % 21\n",
    "    cho = int(((cv - basevalue)/28)/21)%19\n",
    "\n",
    "    return chr(cho + 0x1100), chr(jung + 0x1161), chr(jong + 0x11A8 - 1)"
   ]
  },
  {
   "cell_type": "code",
   "execution_count": 61,
   "metadata": {},
   "outputs": [],
   "source": [
    "def jamo2syllable(jamo):\n",
    "    \"\"\" conversion from 조합형 unicode to 완성형 unicode \"\"\"\n",
    "    a,b,c = jamo\n",
    "    a,b,c = ord(a) - 0x1100, ord(b) - 0x1161, ord(c) - 0x11A8 + 1\n",
    "    syllable = 0xAC00 + a*588 + b*28 + c \n",
    "    print(syllable, f'0x{syllable:X}', chr(syllable))\n",
    "    return chr(syllable)"
   ]
  },
  {
   "cell_type": "code",
   "execution_count": 62,
   "metadata": {},
   "outputs": [
    {
     "name": "stdout",
     "output_type": "stream",
     "text": [
      "44032 0xac00 44622\n"
     ]
    },
    {
     "data": {
      "text/plain": [
       "('ᄁ', 'ᅡ', 'ᆩ')"
      ]
     },
     "execution_count": 62,
     "metadata": {},
     "output_type": "execute_result"
    }
   ],
   "source": [
    "syllable2jamo(\"깎\")"
   ]
  },
  {
   "cell_type": "code",
   "execution_count": 63,
   "metadata": {},
   "outputs": [
    {
     "name": "stdout",
     "output_type": "stream",
     "text": [
      "44032 0xac00 44622\n",
      "44622 0xAE4E 깎\n"
     ]
    },
    {
     "data": {
      "text/plain": [
       "'깎'"
      ]
     },
     "execution_count": 63,
     "metadata": {},
     "output_type": "execute_result"
    }
   ],
   "source": [
    "jamo2syllable(syllable2jamo(\"깎\"))"
   ]
  },
  {
   "cell_type": "code",
   "execution_count": 64,
   "metadata": {},
   "outputs": [
    {
     "name": "stdout",
     "output_type": "stream",
     "text": [
      "44032 0xac00 46293\n"
     ]
    },
    {
     "data": {
      "text/plain": [
       "('ᄃ', 'ᅲ', 'ᆼ')"
      ]
     },
     "execution_count": 64,
     "metadata": {},
     "output_type": "execute_result"
    }
   ],
   "source": [
    "syllable2jamo('듕')"
   ]
  },
  {
   "cell_type": "code",
   "execution_count": 65,
   "metadata": {},
   "outputs": [
    {
     "name": "stdout",
     "output_type": "stream",
     "text": [
      "44032 0xac00 46293\n",
      "46293 0xB4D5 듕\n"
     ]
    },
    {
     "data": {
      "text/plain": [
       "'듕'"
      ]
     },
     "execution_count": 65,
     "metadata": {},
     "output_type": "execute_result"
    }
   ],
   "source": [
    "jamo2syllable(syllable2jamo('듕'))"
   ]
  },
  {
   "cell_type": "code",
   "execution_count": null,
   "metadata": {},
   "outputs": [],
   "source": []
  }
 ],
 "metadata": {
  "kernelspec": {
   "display_name": "Python 3.7.5 64-bit",
   "language": "python",
   "name": "python37564bit05346568d4fa4edf84acbdaad0dcfa5b"
  },
  "language_info": {
   "codemirror_mode": {
    "name": "ipython",
    "version": 3
   },
   "file_extension": ".py",
   "mimetype": "text/x-python",
   "name": "python",
   "nbconvert_exporter": "python",
   "pygments_lexer": "ipython3",
   "version": "3.7.5"
  }
 },
 "nbformat": 4,
 "nbformat_minor": 4
}
