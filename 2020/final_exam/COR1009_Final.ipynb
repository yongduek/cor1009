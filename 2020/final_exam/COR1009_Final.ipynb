{
 "cells": [
  {
   "cell_type": "markdown",
   "metadata": {},
   "source": [
    "# Final Exam. Computational Thinking COR1009\n",
    "\n",
    "- 10 points each problem\n",
    "- Upload must be finished before 15:00pm when eclass.sogang.ac.kr will automatically close the site. So be careful.\n"
   ]
  },
  {
   "cell_type": "markdown",
   "metadata": {},
   "source": [
    "Name:        학번: "
   ]
  },
  {
   "cell_type": "code",
   "execution_count": 2,
   "metadata": {},
   "outputs": [],
   "source": [
    "# do not touch this cell.\n",
    "import random\n",
    "import numpy as np\n",
    "import matplotlib.pyplot as plt\n",
    "%matplotlib inline\n",
    "\n",
    "seed_number = 1009\n",
    "random.seed(seed_number)\n",
    "np.random.seed(seed_number)"
   ]
  },
  {
   "cell_type": "markdown",
   "metadata": {},
   "source": [
    "## Compute Average\n",
    "\n",
    "You are given a list of numbers. Compute the average value of the numbers."
   ]
  },
  {
   "cell_type": "code",
   "execution_count": 3,
   "metadata": {
    "tags": []
   },
   "outputs": [
    {
     "name": "stdout",
     "output_type": "stream",
     "text": [
      "length of a is  1000000\n"
     ]
    }
   ],
   "source": [
    "# don't modify, just run this cell to get a\n",
    "seed_number = 1009\n",
    "random.seed(seed_number)\n",
    "np.random.seed(seed_number)\n",
    "\n",
    "a = np.random.randint(0, high=1000, size=(1000000))\n",
    "\n",
    "print('length of a is ', len(a))"
   ]
  },
  {
   "cell_type": "code",
   "execution_count": 4,
   "metadata": {
    "tags": []
   },
   "outputs": [
    {
     "name": "stdout",
     "output_type": "stream",
     "text": [
      "print:  499555376\n"
     ]
    }
   ],
   "source": [
    "# your should be the same as this\n",
    "print('print: ', sum(a))"
   ]
  },
  {
   "cell_type": "markdown",
   "metadata": {},
   "source": [
    "### 1. Provide your python program which uses 'for' loop.\n",
    "- Use `for` loop.\n",
    "- print out the average computed from your python code using the print function `print()`\n",
    "- Do not use any particular function provided in generic python package; for example, you can compute the sum of a list a by `sum(a)`, but in solving this problem you are now allowed to use such a function."
   ]
  },
  {
   "cell_type": "code",
   "execution_count": 5,
   "metadata": {
    "tags": []
   },
   "outputs": [
    {
     "name": "stdout",
     "output_type": "stream",
     "text": [
      "average computed is 499.555376\n"
     ]
    }
   ],
   "source": [
    "# your solution here\n",
    "s1 = 0 # the variable to save the value of average\n",
    "# your code below here\n",
    "for i in range(len(a)):\n",
    "    s1 += a[i]\n",
    "s1 /= len(a)\n",
    "# you code finish before this line\n",
    "print('average computed is', s1)"
   ]
  },
  {
   "cell_type": "markdown",
   "metadata": {},
   "source": [
    "### 2. Make a recursive python program to comute the average of a given list.\n",
    "- Don't use `for` loop.\n",
    "- It must be recursive.\n",
    "- No simple ready-made function such as `np.mean()`"
   ]
  },
  {
   "cell_type": "code",
   "execution_count": 6,
   "metadata": {},
   "outputs": [],
   "source": [
    "# your recursive function in this cell\n",
    "def myRecursiveAverage(a):\n",
    "    if not a:\n",
    "        return 0\n",
    "    else:\n",
    "        return a[0] + myRecursiveAverage(a[1:])\n",
    "    # you make the rest of the function\n",
    "    "
   ]
  },
  {
   "cell_type": "code",
   "execution_count": 7,
   "metadata": {
    "tags": []
   },
   "outputs": [
    {
     "name": "stdout",
     "output_type": "stream",
     "text": [
      "<class 'list'> [847, 87, 8, 95, 997, 439, 818, 614, 785, 357, 671, 918, 784, 300, 872, 273, 90, 324, 881, 738, 554, 687, 885, 799, 517, 267, 987, 194, 571, 140, 409, 783, 702, 639, 601, 50, 461, 880, 906, 353, 824, 305, 229, 595, 951, 15, 80, 180, 143, 675, 178, 643, 463, 93, 522, 442, 378, 733, 273, 298, 107, 267, 221, 367, 808, 745, 634, 568, 173, 595, 97, 534, 155, 854, 882, 70, 596, 528, 35, 860, 298, 879, 808, 547, 219, 752, 890, 34, 93, 441, 57, 663, 507, 124, 501, 447, 216, 387, 763, 768]\n",
      "average from recursive is:  487.93\n"
     ]
    }
   ],
   "source": [
    "b = list(a[:100])\n",
    "print(type(b), b)\n",
    "s2 = myRecursiveAverage(b) / len(b)\n",
    "print('average from recursive is: ', s2)"
   ]
  },
  {
   "cell_type": "markdown",
   "metadata": {},
   "source": [
    "### 3. Compute standard deviation of the numbers in the list\n",
    "\n",
    "The standard deviation is computed based on the following definition.\n",
    "\n",
    "$$\n",
    "    std = \\sqrt{\\frac{1}{N-1} \\sum_{i=1}^N (a[i] - \\mu)^2}\n",
    "$$\n",
    "\n",
    "where $\\mu$ is the average of the numbers.\n",
    "\n",
    "- No ready-made function such as `np.std()`."
   ]
  },
  {
   "cell_type": "code",
   "execution_count": 13,
   "metadata": {
    "tags": []
   },
   "outputs": [
    {
     "name": "stdout",
     "output_type": "stream",
     "text": [
      "Your result of the computation should be similar to 288.81697045620194\n"
     ]
    }
   ],
   "source": [
    "# do not modify\n",
    "print('Your result of the computation should be similar to', np.std(a))"
   ]
  },
  {
   "cell_type": "code",
   "execution_count": 14,
   "metadata": {},
   "outputs": [
    {
     "data": {
      "text/plain": [
       "1.4142135623730951"
      ]
     },
     "execution_count": 14,
     "metadata": {},
     "output_type": "execute_result"
    }
   ],
   "source": [
    "np.sqrt(2)"
   ]
  },
  {
   "cell_type": "code",
   "execution_count": 17,
   "metadata": {},
   "outputs": [],
   "source": [
    "def mySTD(a):\n",
    "    # provide your code for standard deviation\n",
    "    sq2 = 0\n",
    "    for n in a:\n",
    "        sq2 += (n - s1)**2\n",
    "    std = np.sqrt(sq2 / (len(a) - 1))\n",
    "    return std"
   ]
  },
  {
   "cell_type": "code",
   "execution_count": 18,
   "metadata": {
    "tags": []
   },
   "outputs": [
    {
     "name": "stdout",
     "output_type": "stream",
     "text": [
      "standard deviation std3:  288.8171148647875\n"
     ]
    }
   ],
   "source": [
    "std3 = mySTD(a)\n",
    "print('standard deviation std3: ', std3)"
   ]
  },
  {
   "cell_type": "markdown",
   "metadata": {},
   "source": [
    "---\n",
    "#### You may use any python function for the rest of the problems.\n",
    "---"
   ]
  },
  {
   "cell_type": "markdown",
   "metadata": {},
   "source": [
    "### 4. Move zeros to the end\n",
    "Write an algorithm that takes an array and moves all the zeros to the end, preserving the order of the other elements."
   ]
  },
  {
   "cell_type": "code",
   "execution_count": 29,
   "metadata": {},
   "outputs": [
    {
     "data": {
      "text/plain": [
       "(True, False)"
      ]
     },
     "execution_count": 29,
     "metadata": {},
     "output_type": "execute_result"
    }
   ],
   "source": [
    "a = 1\n",
    "isinstance(False, bool), type(False) == int"
   ]
  },
  {
   "cell_type": "code",
   "execution_count": 30,
   "metadata": {},
   "outputs": [],
   "source": [
    "# you code\n",
    "def move_zeros(a):\n",
    "    zeros, others = [], []\n",
    "    for item in a:\n",
    "\n",
    "        if type(item) == int and item == 0:\n",
    "            zeros.append(item)\n",
    "        else:\n",
    "            others.append(item)\n",
    "    return others + zeros"
   ]
  },
  {
   "cell_type": "code",
   "execution_count": 31,
   "metadata": {
    "tags": []
   },
   "outputs": [
    {
     "name": "stdout",
     "output_type": "stream",
     "text": [
      "input: [False, 0, 1, 3, 'hello', 0, '한글', 0, [3, 2], 99]\n",
      "move zeros to the end:  [False, 1, 3, 'hello', '한글', [3, 2], 99, 0, 0, 0]\n"
     ]
    }
   ],
   "source": [
    "a = [False, 0, 1, 3, \"hello\", 0, '한글', 0, [3,2], 99]\n",
    "result = move_zeros(a)\n",
    "print('input:', a)\n",
    "print('move zeros to the end: ', result)"
   ]
  },
  {
   "cell_type": "markdown",
   "metadata": {},
   "source": [
    "### 5. Sort the even\n",
    "\n",
    "You have an array of numbers. Your task is to sort ascending even numbers but odd numbers must be in their places. Zero is an even number. If you have an empty array, you need to return it.\n",
    "\n",
    "**Example**\n",
    "```\n",
    "sort_array([5,3,2,8,1,4]) == [5,3,2,4,1,8]\n",
    "```"
   ]
  },
  {
   "cell_type": "code",
   "execution_count": 38,
   "metadata": {},
   "outputs": [],
   "source": [
    "# your code\n",
    "def sort_array(a):\n",
    "    evens = []\n",
    "    for i in a:\n",
    "        if i%2 ==0:\n",
    "            evens.append(i)\n",
    "    evens.sort()\n",
    "    # print(evens)\n",
    "    k = 0\n",
    "    for i in range(len(a)):\n",
    "        if a[i]%2 ==0:  # even\n",
    "            a[i] = evens[k]\n",
    "            k += 1\n",
    "    return a"
   ]
  },
  {
   "cell_type": "code",
   "execution_count": 39,
   "metadata": {
    "tags": []
   },
   "outputs": [
    {
     "data": {
      "text/plain": [
       "[5, 3, 2, 4, 1, 8]"
      ]
     },
     "execution_count": 39,
     "metadata": {},
     "output_type": "execute_result"
    }
   ],
   "source": [
    "sort_array([5,3,2,8,1,4])"
   ]
  },
  {
   "cell_type": "markdown",
   "metadata": {},
   "source": [
    "### 6. Find the divisors\n",
    "\n",
    "Create a function named divisors/Divisors that takes an integer n > 1 and returns an array with all of the integer's divisors(except for 1 and the number itself), from smallest to largest. If the number is prime return the string '(integer) is prime'\n",
    "\n",
    "**Example**\n",
    "```\n",
    "divisors(12); #should return [2,3,4,6]\n",
    "divisors(25); #should return [5]\n",
    "divisors(13); #should return \"13 is prime\"\n",
    "```"
   ]
  },
  {
   "cell_type": "code",
   "execution_count": 50,
   "metadata": {},
   "outputs": [],
   "source": [
    "# your code here\n",
    "def divisors(n):\n",
    "    d = []\n",
    "    for i in range(2, n):\n",
    "        if n % i == 0:  # divisor\n",
    "            d.append(i)\n",
    "    # print(d)\n",
    "    if d:\n",
    "        return list(set(d))\n",
    "    else:\n",
    "        return f'{n} is prime'"
   ]
  },
  {
   "cell_type": "code",
   "execution_count": 51,
   "metadata": {
    "tags": []
   },
   "outputs": [
    {
     "name": "stdout",
     "output_type": "stream",
     "text": [
      "[2, 3, 4, 6]\n",
      "[8849, 9677]\n",
      "10007 is prime\n"
     ]
    }
   ],
   "source": [
    "print(divisors(12))\n",
    "print(divisors(8849*9677))\n",
    "print(divisors(10007))"
   ]
  },
  {
   "cell_type": "markdown",
   "metadata": {},
   "source": [
    "### 7. RGB to Hex conversion\n",
    "The rgb function is incomplete. Complete it so that passing in RGB decimal values will result in a hexadecimal representation being returned. Valid decimal values for RGB are 0 - 255. Any values that fall out of that range must be rounded to the closest valid value.\n",
    "\n",
    "Note: Your answer should always be 6 characters long, the shorthand with 3 will not work here.\n",
    "\n",
    "The following are examples of expected output values:\n",
    "```\n",
    "rgb(255, 255, 255) # returns FFFFFF\n",
    "rgb(255, 255, 300) # returns FFFFFF\n",
    "rgb(0,0,0) # returns 000000\n",
    "rgb(148, 0, 211) # returns 9400D3\n",
    "```"
   ]
  },
  {
   "cell_type": "code",
   "execution_count": 58,
   "metadata": {},
   "outputs": [],
   "source": [
    "# your code here\n",
    "def Hex(a):\n",
    "    code = {0: '0', 1: '1', 2: '2', 3: '3', 4: '4', 5: '5', 5: '6', 7: '7', 8: '8', 9: '9', 10: 'A', 11: 'B', 12: 'C', 13: 'D', 14: 'E', 15: 'F'}\n",
    "    return code[a//16] + code[a%16]\n",
    "\n",
    "def rgb(r,g,b):\n",
    "    return Hex(r) + Hex(g) + Hex(b)\n",
    "    pass"
   ]
  },
  {
   "cell_type": "code",
   "execution_count": 59,
   "metadata": {
    "tags": []
   },
   "outputs": [
    {
     "name": "stdout",
     "output_type": "stream",
     "text": [
      "FF00D3\n"
     ]
    }
   ],
   "source": [
    "print(rgb(255,0,211))"
   ]
  },
  {
   "cell_type": "markdown",
   "metadata": {},
   "source": [
    "### 8. Is he gonna survive?\n",
    "\n",
    "A hero is on his way to the castle to complete his mission. However, he's been told that the castle is surrounded with a couple of powerful dragons! each dragon takes 2 bullets to be defeated, our hero has no idea how many bullets he should carry.. Assuming he's gonna grab a specific given number of bullets and move forward to fight another specific given number of dragons, will he survive?\n",
    "\n",
    "Return True if yes, False otherwise"
   ]
  },
  {
   "cell_type": "code",
   "execution_count": 60,
   "metadata": {},
   "outputs": [],
   "source": [
    "# your code here\n",
    "def survive(n_bullets, n_dragons):\n",
    "    return n_dragons * 2 < n_bullets"
   ]
  },
  {
   "cell_type": "code",
   "execution_count": 61,
   "metadata": {
    "tags": []
   },
   "outputs": [
    {
     "name": "stdout",
     "output_type": "stream",
     "text": [
      "He will survive with 247 for 112? True\n"
     ]
    }
   ],
   "source": [
    "n_bullets = 247\n",
    "n_dragons = 112\n",
    "print(f'He will survive with {n_bullets} for {n_dragons}?', survive(n_bullets, n_dragons))"
   ]
  },
  {
   "cell_type": "markdown",
   "metadata": {},
   "source": [
    "### 9. The Vowel Encoding\n",
    "\n",
    "Create a function called `encode()` t replace all the lowercase vowels in a given string with korean vowels according to the following pattern:\n",
    "```\n",
    "a -> ㅏ\n",
    "e -> ㅐ\n",
    "i -> ㅣ\n",
    "o -> ㅗ\n",
    "u -> ㅜ\n",
    "```\n",
    "\n",
    "For example, `encode('hello')` would return `'hㅐllㅗ'`. There is no need to worry about uppercase vowels."
   ]
  },
  {
   "cell_type": "code",
   "execution_count": 66,
   "metadata": {},
   "outputs": [],
   "source": [
    "# your code here\n",
    "\n",
    "def encode(s):\n",
    "    cvtmap = { 'a': 'ㅏ', 'e': 'ㅐ', 'i': 'ㅣ', 'o': 'ㅗ', 'u': 'ㅜ'}\n",
    "    a = []\n",
    "    for c in s:\n",
    "        if c in cvtmap.keys():\n",
    "            a.append( cvtmap[c] )\n",
    "        else:\n",
    "            a.append(c)\n",
    "    return ''.join(a)"
   ]
  },
  {
   "cell_type": "code",
   "execution_count": 67,
   "metadata": {
    "tags": []
   },
   "outputs": [
    {
     "name": "stdout",
     "output_type": "stream",
     "text": [
      "encode(hello) == hㅐllㅗ\n"
     ]
    }
   ],
   "source": [
    "s = 'hello'\n",
    "print(f'encode({s}) == {encode(s)}')"
   ]
  },
  {
   "cell_type": "code",
   "execution_count": null,
   "metadata": {},
   "outputs": [],
   "source": []
  },
  {
   "cell_type": "markdown",
   "metadata": {},
   "source": [
    "### 10. Build Tower\n",
    "Build Tower by the following given argument:\n",
    "number of floors (integer and always greater than 0).\n",
    "\n",
    "Tower block is represented as *\n",
    "\n",
    "for example, a tower of 3 floors looks like below\n",
    "```\n",
    "[\n",
    "  '  *  ', \n",
    "  ' *** ', \n",
    "  '*****'\n",
    "]\n",
    "```\n",
    "and a tower of 6 floors looks like below\n",
    "```\n",
    "[\n",
    "  '     *     ', \n",
    "  '    ***    ', \n",
    "  '   *****   ', \n",
    "  '  *******  ', \n",
    "  ' ********* ', \n",
    "  '***********'\n",
    "]\n",
    "```"
   ]
  },
  {
   "cell_type": "code",
   "execution_count": 85,
   "metadata": {},
   "outputs": [],
   "source": [
    "# your code here\n",
    "# this function should return a list of strings as given in the examples.\n",
    "def tower(n):\n",
    "    s = []\n",
    "\n",
    "    for k in range(1, n+1):\n",
    "        gap = ' ' * (n-k)\n",
    "        star = '*' * (2*k - 1)\n",
    "        ss = gap + star + gap\n",
    "        print(f'{[ss]}')\n",
    "        s.append(ss)\n",
    "    return s"
   ]
  },
  {
   "cell_type": "code",
   "execution_count": 87,
   "metadata": {
    "tags": []
   },
   "outputs": [
    {
     "name": "stdout",
     "output_type": "stream",
     "text": [
      "['     *     ']\n",
      "['    ***    ']\n",
      "['   *****   ']\n",
      "['  *******  ']\n",
      "[' ********* ']\n",
      "['***********']\n",
      "['     *     ', '    ***    ', '   *****   ', '  *******  ', ' ********* ', '***********'] ---\n",
      "     *     \n",
      "    ***    \n",
      "   *****   \n",
      "  *******  \n",
      " ********* \n",
      "***********\n"
     ]
    }
   ],
   "source": [
    "# do not modify. Just execute.\n",
    "t = tower(6)\n",
    "print(t, '---')\n",
    "if t:\n",
    "    for item in t:\n",
    "        print(item)\n",
    "else:\n",
    "    print('Not yet.')"
   ]
  },
  {
   "cell_type": "markdown",
   "metadata": {},
   "source": [
    "### 11. Valid Parentheses\n",
    "\n",
    "Write a function called that takes a string of parentheses, and determines if the order of the parentheses is valid. \n",
    "The function should return true if the string is valid, and false if it's invalid.\n",
    "Input string is composed of '(', ')', and lower case alphabets.\n",
    "\n",
    "Examples\n",
    "```\n",
    "\"(hello)\"              =>  true\n",
    "\")(()))\"          =>  false\n",
    "\"(\"               =>  false\n",
    "\"g((hood))oo((()(d))(pro))\"  =>  true\n",
    "```"
   ]
  },
  {
   "cell_type": "code",
   "execution_count": 88,
   "metadata": {},
   "outputs": [],
   "source": [
    "# your code\n",
    "def valid(string):\n",
    "    x = 0\n",
    "    for c in string:\n",
    "        if c == '(':\n",
    "            x += 1\n",
    "        elif c == ')':\n",
    "            x -= 1\n",
    "        else:\n",
    "            pass\n",
    "    return x == 0"
   ]
  },
  {
   "cell_type": "code",
   "execution_count": 89,
   "metadata": {
    "tags": []
   },
   "outputs": [
    {
     "name": "stdout",
     "output_type": "stream",
     "text": [
      "\"(hello)\" is a string of valid parentheses:  True\n"
     ]
    }
   ],
   "source": [
    "print('\\\"(hello)\\\" is a string of valid parentheses: ', valid(\"(hello)\"))"
   ]
  },
  {
   "cell_type": "markdown",
   "metadata": {},
   "source": [
    "### 12. ATM\n",
    "\n",
    "There is enough money available on ATM in nominal value 10, 20, 50, 100, 200 and 500 dollars.\n",
    "You are given money in nominal value of n with 1<=n<=15000.\n",
    "Try to find minimal number of notes that must be used to repay in dollars, or output -1 if it is impossible.\n",
    "Good Luck!!!"
   ]
  },
  {
   "cell_type": "code",
   "execution_count": 97,
   "metadata": {},
   "outputs": [],
   "source": [
    "# your code\n",
    "def atm(n):\n",
    "    notes = [500, 200, 100, 50, 20, 10]\n",
    "    x = 0\n",
    "    for k in notes:\n",
    "        x += n // k\n",
    "        print(f'{k} {n//k}')\n",
    "        n = n % k\n",
    "    return x "
   ]
  },
  {
   "cell_type": "code",
   "execution_count": 98,
   "metadata": {
    "tags": []
   },
   "outputs": [
    {
     "name": "stdout",
     "output_type": "stream",
     "text": [
      "500 9\n",
      "200 0\n",
      "100 0\n",
      "50 0\n",
      "20 1\n",
      "10 1\n",
      "The number of notes for 4530 is 11\n"
     ]
    }
   ],
   "source": [
    "dollar = 4530\n",
    "print(f'The number of notes for {dollar} is {atm(dollar)}')"
   ]
  },
  {
   "cell_type": "markdown",
   "metadata": {},
   "source": [
    "---\n",
    "## Counting Problems\n",
    "You are expected to develop programs to count the number of lines or words in question."
   ]
  },
  {
   "cell_type": "code",
   "execution_count": 99,
   "metadata": {
    "tags": []
   },
   "outputs": [
    {
     "name": "stdout",
     "output_type": "stream",
     "text": [
      "The number of lines:  23155\n"
     ]
    }
   ],
   "source": [
    "# do not modify this cell\n",
    "with open('novel.txt', 'r', encoding='utf8') as f:\n",
    "    lines = f.readlines()\n",
    "\n",
    "lines = [line.strip() for line in lines]\n",
    "lines = [line for line in lines if len(line) > 0]\n",
    "print('The number of lines: ', len(lines))"
   ]
  },
  {
   "cell_type": "code",
   "execution_count": 100,
   "metadata": {
    "tags": []
   },
   "outputs": [
    {
     "name": "stdout",
     "output_type": "stream",
     "text": [
      "12000  :  “증소협, 무슨 병기를 쓰겠소?”\n",
      "12001  :  장무기는 그를 보자 독을 빨 줄 아는 금관은관(金冠銀冠) 한 쌍 의 작은 뱀이 생각났다. 그가 절벽 밑으로 떨어진 후에 그 한 쌍 의 작은 뱀은 먹을 독물이 없었기 때문에 그대로 굶어 죽었다. 바로 또 생각난 것은 그가 무당산에서 자기의 부모를 억압하여 죽게 한 것과, 자기와 양불회를 억압하여 독주를 마시게 하고 자 기를 때려서 눈과 코에 시퍼런 멍이 들게 하고는 절벽 밑으로 던 져 버렸던 일이다. 만약에 양소가 옆에서 때마침 출수하여 구하 지 않았더라면 자기는 지금쯤 시체가 벌써 썩어 없어졌을 테니 어떻게 지금의 일을 할 수 있단 말인가. 자기는 좋은 뜻으로 그 의 애첩 생명을 구해 줬는데, 그는 오히려 은혜를 원수로 갚으며 수차 자기에게 해꼬지 한 것이다. 그는 이것 저것 생각을 하자 화가 머리 끝까지 치밀었다.\n",
      "12002  :  “하태충 이놈아, 그날 너에게 당한 분풀이로 오늘 널 죽이지 않 더라도 최소한 너를 실컷 두들겨서 그날의 사무친 한을 풀 것이 다!”\n",
      "12003  :  하태충 부부와 화산파의 두 노자는 각각 사각(四角)에 나누어서 서 있었다. 양도와 쌍검이 햇빛 아래서 번뜩거렸다.\n",
      "12004  :  장무기는 갑자기 양팔을 한 번 진동시키자 몸이 똑바로 솟구치 더니 공중에서 살짝 한 번 몸을 돌려서 서쪽에 있는 매화나무 쪽 으로 덮쳐갔다. 왼손을 내밀어서 매화가지 하나를 꺾은 다음에 그제서야 몸을 돌려서 착지했다.\n",
      "12005  :  그는 매화를 손에 들고 천천히 네 사람 중간으로 들어갔다.\n",
      "12006  :  “소인은 이 매화가지를 병기로 사용할 것이오.”\n",
      "12007  :  그 매화가지는 십여 송이의 매화가 달려 있었고, 반수 이상은 미처 피지 못한 꽃봉오리였다. 사람들은 그가 이같은 말을 하자 모두 경악을 금치 못했다.\n",
      "12008  :  ‘저 매화가지는 부딪치기만 하면 부러질 것인데 어찌 상대방의 보검과 보도하고 겨룰 수가 있겠는가?!’\n",
      "12009  :  반숙한은 냉소를 지으며 말했다.\n"
     ]
    }
   ],
   "source": [
    "st = 12000\n",
    "for i in range(st, st+10):\n",
    "    print(i, ' : ', lines[i])"
   ]
  },
  {
   "cell_type": "code",
   "execution_count": null,
   "metadata": {},
   "outputs": [],
   "source": []
  },
  {
   "cell_type": "markdown",
   "metadata": {},
   "source": [
    "### 13. Word Count (20)\n",
    "\n",
    "1. How many times the name '장무기' appears in the file?"
   ]
  },
  {
   "cell_type": "code",
   "execution_count": 105,
   "metadata": {
    "tags": []
   },
   "outputs": [
    {
     "name": "stdout",
     "output_type": "stream",
     "text": [
      "장무기 appears 4211 times in the novel.\n"
     ]
    }
   ],
   "source": [
    "N = 0\n",
    "# your code here\n",
    "for line in lines:\n",
    "    N += line.count('장무기')\n",
    "# ---------------\n",
    "print(f'장무기 appears {N} times in the novel.')"
   ]
  },
  {
   "cell_type": "markdown",
   "metadata": {},
   "source": [
    "2. Repeat for each of the key words listed below by completing the function `get_count(lines, name)` that returns the number of the word `name` in the list of lines."
   ]
  },
  {
   "cell_type": "markdown",
   "metadata": {
    "tags": []
   },
   "source": [
    "# complete this function\n",
    "def get_count(lines, name):\n",
    "    N = 0\n",
    "    # your code here\n",
    "    for line in lines:\n",
    "        N += line.count(name)\n",
    "    return N \n",
    "\n",
    "heros = [ '장무기', '주지약', '조민', '은리', '소소', \n",
    "         '사손', '성곤', '무당파', '화산파', '은야왕', '천응교', '송원교', '장삼봉',\n",
    "         '의천검', '도룡도', '하태충', '양소', '범요', '기효부', '송청서', '은천정',\n",
    "         '황삼미녀', '구양목지', '진우량']\n",
    "heros_count = []\n",
    "for i, name in enumerate(heros):\n",
    "    N = get_count(lines, name)\n",
    "    print(f'[{i}] {name} appears {N} times in the novel')\n",
    "    heros_count.append( (N, name) )"
   ]
  },
  {
   "cell_type": "code",
   "execution_count": 107,
   "metadata": {
    "tags": []
   },
   "outputs": [
    {
     "name": "stdout",
     "output_type": "stream",
     "text": [
      "(4211, '장무기')\n",
      "(1053, '조민')\n",
      "(1042, '사손')\n",
      "(810, '주지약')\n",
      "(466, '소소')\n",
      "(454, '양소')\n",
      "(396, '장삼봉')\n",
      "(273, '도룡도')\n",
      "(248, '송청서')\n",
      "(236, '하태충')\n",
      "(234, '무당파')\n",
      "(230, '성곤')\n",
      "(224, '범요')\n",
      "(199, '기효부')\n",
      "(194, '천응교')\n",
      "(189, '송원교')\n",
      "(172, '진우량')\n",
      "(154, '은천정')\n",
      "(142, '의천검')\n",
      "(63, '은야왕')\n",
      "(61, '화산파')\n",
      "(56, '은리')\n",
      "(3, '구양목지')\n",
      "(2, '황삼미녀')\n"
     ]
    }
   ],
   "source": [
    "heros_count.sort(reverse=True)\n",
    "for item in heros_count:\n",
    "    print(item)"
   ]
  },
  {
   "cell_type": "markdown",
   "metadata": {},
   "source": [
    "### 14. Line Count (20 points)\n",
    "\n",
    "1. Count the number of lines that contain '장무기' and '주지약' at the same time.\n",
    "2. Count the number of lines that contain '장무기' and '조민' at the same time.\n",
    "\n",
    "Print out the two numbers."
   ]
  },
  {
   "cell_type": "code",
   "execution_count": 117,
   "metadata": {
    "tags": []
   },
   "outputs": [
    {
     "name": "stdout",
     "output_type": "stream",
     "text": [
      "장무기,주지약 265\n",
      "장무기,조민 390\n"
     ]
    }
   ],
   "source": [
    "# your code here\n",
    "def cnt(lines, n1, n2):\n",
    "    N = 0\n",
    "    for line in lines:\n",
    "        if n1 in line and n2 in line:\n",
    "            N += 1\n",
    "    return N\n",
    "#\n",
    "#\n",
    "print('장무기,주지약', cnt(lines, '장무기', '주지약'))\n",
    "print('장무기,조민', cnt(lines, '장무기', '조민'))"
   ]
  },
  {
   "cell_type": "markdown",
   "metadata": {},
   "source": [
    "### 15. Your Expection (Extra 10)\n",
    "Based the result of Problem 14, what is your opinion about the expected relationship between 장무기 and 조민 compared to 장무기 and 주지약?"
   ]
  },
  {
   "cell_type": "markdown",
   "metadata": {},
   "source": [
    "Your answer comes in this cell:\n",
    "\n",
    "* '장무기' and '조민' appears more than the other pair. They must be the strongest persons in the novel.\n",
    "\n",
    "* 장무기, 조민  두 사람의 이름이 더 많이 나온다. 둘 사이는 강호에서 사파와 정파를 대표하는 강력한 경쟁 관계였을 것으로 예상할 수 있다.\n",
    "\n",
    "\n",
    "---"
   ]
  },
  {
   "cell_type": "markdown",
   "metadata": {},
   "source": [
    "### 16. Make Plan (Extra 10)\n",
    "\n",
    "![세종실록 이미지](image.png)\n",
    "\n",
    "The file 'image.png' contains a photo of a page of 세종실록.\n",
    "\n",
    "The situation is that you have come to work as an **expert of automatic image analysis and understing** in a place having a large amount of document images. Now you are given the whole of images captured from 조선왕조실록, part of which being 세종실록 images; the number of images are not given but reportedly it occupies more than 100 giga bytes of computer hard disk space. Make a plan of what you will do as the chief scientist.\n",
    "\n",
    "Your department has many people from diverse majors, such as history, literature, computer science, humanities, social science, economics, politics, statistics, etc, and you may choose any of them to work with for this specific subject. The ultimate goal of yours at the moment is **to list up what you will do and what you can show** to convince the committee to get the research permission and obtain a large amount of research fund but also to pursuade the people you want to work with to participte in the project. "
   ]
  },
  {
   "cell_type": "markdown",
   "metadata": {},
   "source": [
    "**Plan List**\n",
    "\n",
    "1. make a beautiful copy of the image to be used as a wrapping paper (포장지). People will like it.\n",
    "2. likewise, we can use the image for wall papers (벽지 디자인), and make money.\n",
    "3. 한지공예를 위한 재료로 사용할 수 있다."
   ]
  },
  {
   "cell_type": "markdown",
   "metadata": {},
   "source": []
  },
  {
   "cell_type": "markdown",
   "metadata": {},
   "source": [
    "---\n",
    "End of the exam."
   ]
  }
 ],
 "metadata": {
  "kernelspec": {
   "display_name": "Python 3",
   "language": "python",
   "name": "python3"
  },
  "language_info": {
   "codemirror_mode": {
    "name": "ipython",
    "version": 3
   },
   "file_extension": ".py",
   "mimetype": "text/x-python",
   "name": "python",
   "nbconvert_exporter": "python",
   "pygments_lexer": "ipython3",
   "version": "3.7.5"
  }
 },
 "nbformat": 4,
 "nbformat_minor": 4
}
