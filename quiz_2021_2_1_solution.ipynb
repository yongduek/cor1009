{
 "cells": [
  {
   "cell_type": "markdown",
   "metadata": {},
   "source": [
    "# COR1009-5 Quiz 1\n",
    "\n",
    "- Instructor: 서용덕\n",
    "- 5 Points Each.\n",
    "\n",
    "- You must not delete any cell. They should exist as provided.\n",
    "- You may create cells to do your own computation, or to verify the solution of yours."
   ]
  },
  {
   "cell_type": "markdown",
   "metadata": {},
   "source": [
    "# 1. What is your name and student id number? \n",
    "\n",
    "You must use python's `print()` function to print them out."
   ]
  },
  {
   "cell_type": "code",
   "execution_count": 1,
   "metadata": {},
   "outputs": [],
   "source": [
    "# your code here\n"
   ]
  },
  {
   "cell_type": "markdown",
   "metadata": {},
   "source": [
    "# 2. Use `for`-loop to calculate the sum of all the numbers in the arrary `A`.\n",
    "- No numpy method functions are allowed. You won't achieve any point."
   ]
  },
  {
   "cell_type": "code",
   "execution_count": 1,
   "metadata": {},
   "outputs": [],
   "source": [
    "# do not modify.\n",
    "import numpy as np\n",
    "rng = np.random.default_rng(2021) \n",
    "array_size = 1000\n",
    "A = rng.integers(0, 1000, size=array_size)"
   ]
  },
  {
   "cell_type": "code",
   "execution_count": 3,
   "metadata": {},
   "outputs": [],
   "source": [
    "# your code must come here\n"
   ]
  },
  {
   "cell_type": "markdown",
   "metadata": {},
   "source": [
    "# 3. Two functions to compute the maximum and the minimum, respectively, of the input array `B` using `for`-loop."
   ]
  },
  {
   "cell_type": "code",
   "execution_count": 2,
   "metadata": {},
   "outputs": [],
   "source": [
    "# do not modify.\n",
    "import numpy as np\n",
    "rng = np.random.default_rng(2022) \n",
    "array_size = 1000\n",
    "B = rng.integers(0, 1000, size=array_size)"
   ]
  },
  {
   "cell_type": "code",
   "execution_count": 10,
   "metadata": {},
   "outputs": [],
   "source": [
    "# your code here to define functions that computes min and max, respectively.\n",
    "def my_max(A):\n",
    "    pass \n",
    "def my_min(A):\n",
    "    pass "
   ]
  },
  {
   "cell_type": "code",
   "execution_count": 11,
   "metadata": {},
   "outputs": [
    {
     "name": "stdout",
     "output_type": "stream",
     "text": [
      "min = None, max = None.\n"
     ]
    }
   ],
   "source": [
    "# just execute the cell\n",
    "# call the function to compute max and min of the array, print out the result of function calls\n",
    "maxvalue = my_max(B)\n",
    "minvalue = my_min(B)\n",
    "print(f\"min = {minvalue}, max = {maxvalue}.\")"
   ]
  },
  {
   "cell_type": "markdown",
   "metadata": {},
   "source": [
    "# 4. Find the sample variance `Var` of the array `A` using for-loop.\n",
    "\n",
    "The fomula to compute sample variance is as follows:\n",
    "$$\n",
    "    Var = \\frac{1}{N-1} \\sum_{i=1}^N \\big( A[i] - m \\big)^2\n",
    "$$\n",
    "where $m$ is the sample mean computed by:\n",
    "$$\n",
    "    m = \\frac{1}{N} \\sum_{i=1}^N A[i]\n",
    "$$"
   ]
  },
  {
   "cell_type": "code",
   "execution_count": 4,
   "metadata": {},
   "outputs": [],
   "source": [
    "# do not modify.\n",
    "import numpy as np\n",
    "rng = np.random.default_rng(2023) \n",
    "array_size = 1000\n",
    "A = rng.integers(0, 1000, size=array_size)"
   ]
  },
  {
   "cell_type": "code",
   "execution_count": 12,
   "metadata": {},
   "outputs": [],
   "source": [
    "# define your function to compute the variance.\n"
   ]
  },
  {
   "cell_type": "code",
   "execution_count": 13,
   "metadata": {},
   "outputs": [],
   "source": [
    "# call the function to compute the variance of data in array A\n"
   ]
  },
  {
   "cell_type": "markdown",
   "metadata": {},
   "source": [
    "# 5. Print the following shape for n = 4.\n",
    "\n",
    "E.g. n = 3\n",
    "<pre>\n",
    "1 3 5 5 3 1\n",
    "3 5     5 3\n",
    "5         5\n",
    "5         5\n",
    "3 5     5 3\n",
    "1 3 5 5 3 1\n",
    "</pre>"
   ]
  },
  {
   "cell_type": "code",
   "execution_count": 15,
   "metadata": {},
   "outputs": [],
   "source": [
    "# your code comes here.\n"
   ]
  },
  {
   "cell_type": "markdown",
   "metadata": {},
   "source": [
    "# 6. Greatest Position Distance Between Matching Array Values\n",
    "\n",
    "The goal of this problem is to return the greatest distance of index positions between matching number values in an array or 0 if there are no matching values.\n",
    "\n",
    "Example: In an array with the values [0, 2, 1, 2, 4, 1] the greatest index distance is between the matching '1' values at index 2 and 5. Executing greatestDistance against this array would return 3. (i.e. 5 - 2)\n",
    "\n",
    "Here's an example:\n",
    "\n",
    "```\n",
    "greatest_distance([0, 2, 1, 2, 4, 1])  --> 3\n",
    "```"
   ]
  },
  {
   "cell_type": "code",
   "execution_count": 2,
   "metadata": {},
   "outputs": [],
   "source": [
    "# provide  your solution\n",
    "def greatest_distance(array):\n",
    "    # TODO: put solution here\n",
    "    pass  # you should remove this line when you provide your solution"
   ]
  },
  {
   "cell_type": "code",
   "execution_count": 1,
   "metadata": {},
   "outputs": [],
   "source": [
    "# a utility function. Dont modify. Just run.\n",
    "def assert_equals(a, b):\n",
    "    return a == b"
   ]
  },
  {
   "cell_type": "code",
   "execution_count": 6,
   "metadata": {},
   "outputs": [
    {
     "name": "stdout",
     "output_type": "stream",
     "text": [
      "True\n",
      "True\n"
     ]
    }
   ],
   "source": [
    "# just execute this cell to check whether your function works or not\n",
    "print(assert_equals(greatest_distance([9, 7, 1, 2, 3, 7, 0, -1, -2]), 4))\n",
    "print(assert_equals(greatest_distance([0,7,0,2,3,7,0,-1,-2]), 6))"
   ]
  },
  {
   "cell_type": "markdown",
   "metadata": {},
   "source": [
    "# 7. Find common items in two lists\n",
    "\n",
    "1. find those common items from `lista` and `listb`. You must develop your own function with for-loop iteration. \n",
    "2. print out the number of common items.\n",
    "3. find the maximum among the common items. You must use your own `my_max()` function.\n",
    "4. find the minimum among the common items. You must use your own `my_min()` function.\n",
    "5. Do not print all of the common items, or you will get negative reward."
   ]
  },
  {
   "cell_type": "code",
   "execution_count": 28,
   "metadata": {},
   "outputs": [],
   "source": [
    "# data generation. do not modify.\n",
    "import numpy as np\n",
    "rng = np.random.default_rng(2027)\n",
    "\n",
    "lista = list(rng.integers(0,100,size=200))\n",
    "listb = list(rng.integers(0,100,size=200))"
   ]
  },
  {
   "cell_type": "code",
   "execution_count": 30,
   "metadata": {},
   "outputs": [],
   "source": [
    "# your code here\n",
    "def common_items(la, lb):\n",
    "    pass "
   ]
  },
  {
   "cell_type": "code",
   "execution_count": 31,
   "metadata": {},
   "outputs": [],
   "source": [
    "# just run this cell. Do not edit.\n",
    "list_common = common_items(lista, listb)"
   ]
  },
  {
   "cell_type": "code",
   "execution_count": 32,
   "metadata": {},
   "outputs": [],
   "source": [
    "# find min and max, and print the results.\n"
   ]
  },
  {
   "cell_type": "markdown",
   "metadata": {},
   "source": [
    "# 8. Opposites Attract\n",
    "\n",
    "Timmy & Sarah think they are in love, but around where they live, they will only know once they pick a flower each. If one of the flowers has an even number of petals and the other has an odd number of petals it means they are in love.\n",
    "\n",
    "Write a function that will take the number of petals of each flower and return true if they are in love and false if they aren't.\n"
   ]
  },
  {
   "cell_type": "code",
   "execution_count": 37,
   "metadata": {},
   "outputs": [],
   "source": [
    "# develop your function here\n",
    "def love(petals1, petals2):\n",
    "    # ...\n",
    "    pass"
   ]
  },
  {
   "cell_type": "code",
   "execution_count": 35,
   "metadata": {},
   "outputs": [
    {
     "name": "stdout",
     "output_type": "stream",
     "text": [
      "None\n"
     ]
    }
   ],
   "source": [
    "# just run the cell\n",
    "print(love(1, 4))"
   ]
  },
  {
   "cell_type": "code",
   "execution_count": 36,
   "metadata": {},
   "outputs": [
    {
     "name": "stdout",
     "output_type": "stream",
     "text": [
      "None\n"
     ]
    }
   ],
   "source": [
    "# just run the cell\n",
    "print(love(1101, 9984))"
   ]
  },
  {
   "cell_type": "markdown",
   "metadata": {},
   "source": [
    "# 9. Convert a number to a string!\n",
    "\n",
    "We need a function that can transform a number into a string.\n",
    "\n",
    "What ways of achieving this do you know?\n",
    "\n",
    "123 --> \"123\"\n",
    "\n",
    "999 --> \"999\""
   ]
  },
  {
   "cell_type": "code",
   "execution_count": null,
   "metadata": {},
   "outputs": [],
   "source": [
    "def num2str(num):\n",
    "    # return a string of the number here!"
   ]
  },
  {
   "cell_type": "code",
   "execution_count": null,
   "metadata": {},
   "outputs": [],
   "source": [
    "# simply run the cell\n",
    "a = num2string(6724)\n",
    "print(a, type(a))"
   ]
  },
  {
   "cell_type": "code",
   "execution_count": null,
   "metadata": {},
   "outputs": [],
   "source": [
    "# simply run the cell\n",
    "a = num2string(3141595357989)\n",
    "print(a, type(a))"
   ]
  },
  {
   "cell_type": "markdown",
   "metadata": {},
   "source": [
    "# 10. Unique items\n",
    "\n",
    "Make a function that finds all the unique items, which may be fulfilled with the numpy function `np.unique()`.\n",
    "- Use for-loop.\n",
    "- You cannot use `np.unique()`, of course."
   ]
  },
  {
   "cell_type": "code",
   "execution_count": 48,
   "metadata": {},
   "outputs": [
    {
     "name": "stdout",
     "output_type": "stream",
     "text": [
      "[1 2 3]\n"
     ]
    }
   ],
   "source": [
    "# For example, this cell show the input and output of `np.unique()`\n",
    "values = [1, 2, 2, 1, 3, 3, 1, 2]\n",
    "uniqs = np.unique(values)\n",
    "print(uniqs)"
   ]
  },
  {
   "cell_type": "code",
   "execution_count": 52,
   "metadata": {},
   "outputs": [],
   "source": [
    "# You are asked to make the following function.\n",
    "def my_unique(array):\n",
    "    pass"
   ]
  },
  {
   "cell_type": "code",
   "execution_count": 51,
   "metadata": {},
   "outputs": [
    {
     "name": "stdout",
     "output_type": "stream",
     "text": [
      "None\n"
     ]
    }
   ],
   "source": [
    "# do not modify. Just execute the cell.\n",
    "uniq_values = my_unique(values)\n",
    "print(uniq_values)"
   ]
  },
  {
   "cell_type": "code",
   "execution_count": 8,
   "metadata": {},
   "outputs": [],
   "source": [
    "# In the next cell (not this cell), find min and max of the uniq_values of the following array, calcuate sum of the values, and print out\n",
    "import numpy as np\n",
    "rng = np.random.default_rng(2027)\n",
    "\n",
    "array = list(rng.integers(0,100,size=200))"
   ]
  },
  {
   "cell_type": "code",
   "execution_count": 9,
   "metadata": {},
   "outputs": [],
   "source": [
    "# ---- your code starts from here ----\n"
   ]
  },
  {
   "cell_type": "markdown",
   "metadata": {},
   "source": [
    "# 11 (Extra 10) Number of people in the Bus\n",
    "\n",
    "There is a bus moving in the city, and it takes and drop some people in each bus stop.\n",
    "\n",
    "You are provided with a list (or array) of integer pairs. Elements of each pair represent number of people get into bus (The first item) and number of people get off the bus (The second item) in a bus stop.\n",
    "\n",
    "Your task is to return number of people who are still in the bus after the last bus station (after the last array). Even though it is the last bus stop, the bus is not empty and some people are still in the bus, and they are probably sleeping there :D\n",
    "\n",
    "Take a look on the test cases.\n",
    "\n",
    "Please keep in mind that the test cases ensure that the number of people in the bus is always >= 0. So the return integer can't be negative.\n",
    "\n",
    "The second value in the first integer array is 0, since the bus is empty in the first bus stop."
   ]
  },
  {
   "cell_type": "code",
   "execution_count": null,
   "metadata": {},
   "outputs": [],
   "source": [
    "def number(bus_stops):\n",
    "    # Good Luck"
   ]
  },
  {
   "cell_type": "markdown",
   "metadata": {},
   "source": [
    "If your function works well, you will see the following cells print Trues."
   ]
  },
  {
   "cell_type": "code",
   "execution_count": null,
   "metadata": {},
   "outputs": [],
   "source": [
    "# run the cell\n",
    "print(number([[10,0],[3,5],[5,8]]) == 5)"
   ]
  },
  {
   "cell_type": "code",
   "execution_count": null,
   "metadata": {},
   "outputs": [],
   "source": [
    "# run the cell\n",
    "print(number([[3,0],[9,1],[4,10],[12,2],[6,1],[7,10]]) == 17)"
   ]
  },
  {
   "cell_type": "code",
   "execution_count": null,
   "metadata": {},
   "outputs": [],
   "source": [
    "# run the cell\n",
    "print(number([[3,0],[9,1],[4,8],[12,2],[6,1],[7,8]]) == 21)"
   ]
  },
  {
   "cell_type": "code",
   "execution_count": null,
   "metadata": {},
   "outputs": [],
   "source": [
    "# run the cell\n",
    "stops = [[89, 0], [14, 25], [96, 77], [86, 52], [41, 76], [35, 21], [43, 53], [64, 21], [7, 16], [9, 129], [73, 8], [64, 67], [2, 63], [34, 0], [33, 11], [15, 59], [25, 2], [35, 11], [48, 1], [23, 114], [33, 20], [51, 24], [89, 28], [79, 55], [0, 121], [74, 3], [8, 65], [28, 23], [31, 41], [14, 14], [64, 34], [82, 52], [77, 81], [26, 95], [16, 3], [98, 0], [54, 117], [66, 29], [19, 67], [64, 7], [75, 123], [34, 43], [92, 52], [26, 38], [11, 76], [7, 2], [24, 5], [20, 39], [52, 9], [84, 36], [56, 34], [54, 59], [63, 131], [99, 30], [18, 140], [20, 15], [7, 7], [98, 7], [78, 101], [26, 6], [88, 108], [45, 23], [70, 54], [30, 40], [41, 70], [97, 2], [2, 70], [55, 43], [48, 43], [46, 125], [8, 30], [55, 26], [90, 64], [52, 72], [81, 0], [22, 42], [47, 71], [4, 52], [59, 18], [61, 2], [17, 106], [90, 56], [8, 21], [67, 58], [69, 4], [8, 130], [82, 43], [55, 31], [94, 104], [20, 67], [65, 16], [17, 41], [62, 18], [97, 112], [97, 20], [86, 63], [81, 60], [46, 26], [61, 156], [88, 138], [15, 6]]\n",
    "\n",
    "print(number(stops) == 110)"
   ]
  },
  {
   "cell_type": "markdown",
   "metadata": {},
   "source": [
    "End."
   ]
  }
 ],
 "metadata": {
  "interpreter": {
   "hash": "5c2412a7f059a44a3ebbda245f298c96603c0f68fdadd5589b1fcd57ac7e1e28"
  },
  "kernelspec": {
   "display_name": "Python 3.8.8 64-bit",
   "name": "python3"
  },
  "language_info": {
   "codemirror_mode": {
    "name": "ipython",
    "version": 3
   },
   "file_extension": ".py",
   "mimetype": "text/x-python",
   "name": "python",
   "nbconvert_exporter": "python",
   "pygments_lexer": "ipython3",
   "version": "3.8.8"
  }
 },
 "nbformat": 4,
 "nbformat_minor": 4
}
