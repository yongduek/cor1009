{
 "cells": [
  {
   "cell_type": "code",
   "execution_count": 19,
   "metadata": {},
   "outputs": [],
   "source": [
    "from pathlib import Path\n",
    "import nltk\n",
    "import unicodedata \n",
    "\n",
    "\n",
    "src_dir = 'korTextData'\n",
    "filename = '7 영웅문 3부-의천도룡기(1961)1편.txt'\n",
    "filepath = Path(src_dir) / filename\n",
    "\n",
    "lines = open(filepath, encoding='utf8').readlines()\n",
    "\n",
    "lines = [line.strip() for line in lines]"
   ]
  },
  {
   "cell_type": "code",
   "execution_count": 12,
   "metadata": {},
   "outputs": [],
   "source": [
    "line = lines[102]"
   ]
  },
  {
   "cell_type": "code",
   "execution_count": 13,
   "metadata": {},
   "outputs": [
    {
     "data": {
      "text/plain": [
       "'배꽃의 계절이어라.'"
      ]
     },
     "execution_count": 13,
     "metadata": {},
     "output_type": "execute_result"
    }
   ],
   "source": [
    "line"
   ]
  },
  {
   "cell_type": "code",
   "execution_count": 17,
   "metadata": {},
   "outputs": [
    {
     "name": "stdout",
     "output_type": "stream",
     "text": [
      "배  utf8: b'\\xeb\\xb0\\xb0' ord: U+bc30 name: HANGUL SYLLABLE BAE\n",
      "꽃  utf8: b'\\xea\\xbd\\x83' ord: U+af43 name: HANGUL SYLLABLE GGOC\n",
      "의  utf8: b'\\xec\\x9d\\x98' ord: U+c758 name: HANGUL SYLLABLE YI\n",
      "계  utf8: b'\\xea\\xb3\\x84' ord: U+acc4 name: HANGUL SYLLABLE GYE\n",
      "절  utf8: b'\\xec\\xa0\\x88' ord: U+c808 name: HANGUL SYLLABLE JEOL\n",
      "이  utf8: b'\\xec\\x9d\\xb4' ord: U+c774 name: HANGUL SYLLABLE I\n",
      "어  utf8: b'\\xec\\x96\\xb4' ord: U+c5b4 name: HANGUL SYLLABLE EO\n",
      "라  utf8: b'\\xeb\\x9d\\xbc' ord: U+b77c name: HANGUL SYLLABLE RA\n"
     ]
    }
   ],
   "source": [
    "for c in line:\n",
    "    if ord(c) > 127:\n",
    "        print('{}  utf8: {} ord: U+{:04x} name: {}'.format(c, c.encode('utf8'), ord(c), unicodedata.name(c)))"
   ]
  },
  {
   "cell_type": "code",
   "execution_count": 18,
   "metadata": {},
   "outputs": [
    {
     "name": "stdout",
     "output_type": "stream",
     "text": [
      "b'\\\\ubc30\\\\uaf43\\\\uc758 \\\\uacc4\\\\uc808\\\\uc774\\\\uc5b4\\\\ub77c.'\n"
     ]
    }
   ],
   "source": [
    "print(line.encode('unicode_escape'))"
   ]
  },
  {
   "cell_type": "code",
   "execution_count": 20,
   "metadata": {},
   "outputs": [
    {
     "data": {
      "text/plain": [
       "['배꽃의', '계절이어라', '.']"
      ]
     },
     "execution_count": 20,
     "metadata": {},
     "output_type": "execute_result"
    }
   ],
   "source": [
    "nltk.word_tokenize(line)"
   ]
  },
  {
   "cell_type": "code",
   "execution_count": 30,
   "metadata": {},
   "outputs": [
    {
     "data": {
      "text/plain": [
       "(71712, ['왕세충', '(', '王世忠', ')', '을', '토벌할', '때', '소림', '승려들이', '종군하여'])"
      ]
     },
     "execution_count": 30,
     "metadata": {},
     "output_type": "execute_result"
    }
   ],
   "source": [
    "mytokens = []\n",
    "for s in lines:\n",
    "    mytokens += nltk.word_tokenize(s)\n",
    "len(mytokens), mytokens[1000:1010]"
   ]
  },
  {
   "cell_type": "markdown",
   "metadata": {},
   "source": [
    "## Regular Expressions"
   ]
  },
  {
   "cell_type": "code",
   "execution_count": 21,
   "metadata": {},
   "outputs": [],
   "source": [
    "import re\n",
    "\n",
    "wordlist = [w for w in nltk.corpus.words.words('en') if w.islower() ]"
   ]
  },
  {
   "cell_type": "code",
   "execution_count": 23,
   "metadata": {},
   "outputs": [
    {
     "data": {
      "text/plain": [
       "['abaissed', 'abandoned', 'abased', 'abashed']"
      ]
     },
     "execution_count": 23,
     "metadata": {},
     "output_type": "execute_result"
    }
   ],
   "source": [
    "# find words with 'ed' ending\n",
    "\n",
    "[w for w in wordlist if re.search('ed$', w)][:4]"
   ]
  },
  {
   "cell_type": "code",
   "execution_count": 33,
   "metadata": {},
   "outputs": [
    {
     "data": {
      "text/plain": [
       "['가', '찾기가', '무기가', '아닌가', '가', '그가', '그가', '아내가', '소녀가', '않은가']"
      ]
     },
     "execution_count": 33,
     "metadata": {},
     "output_type": "execute_result"
    }
   ],
   "source": [
    "[w for w in mytokens if re.search('가$', w)][:10]"
   ]
  },
  {
   "cell_type": "code",
   "execution_count": 39,
   "metadata": {},
   "outputs": [
    {
     "data": {
      "text/plain": [
       "['lo', 'loa', 'loach', 'load', 'loadage']"
      ]
     },
     "execution_count": 39,
     "metadata": {},
     "output_type": "execute_result"
    }
   ],
   "source": [
    "# find words with a string starts with 'lo' using '^' in the pattern\n",
    "[w for w in wordlist if re.search('^lo', w)][:5]"
   ]
  },
  {
   "cell_type": "code",
   "execution_count": 40,
   "metadata": {},
   "outputs": [
    {
     "data": {
      "text/plain": [
       "['abjectly', 'adjuster', 'dejected', 'dejectly', 'injector']"
      ]
     },
     "execution_count": 40,
     "metadata": {},
     "output_type": "execute_result"
    }
   ],
   "source": [
    "# woldcard (.) matches any single character among words of length 8.\n",
    "[w for w in wordlist if re.search('^..j..t..$', w)][:5]"
   ]
  },
  {
   "cell_type": "code",
   "execution_count": 55,
   "metadata": {},
   "outputs": [
    {
     "data": {
      "text/plain": [
       "['abjectedness', 'abjection', 'abjective', 'abjectly', 'abjectness']"
      ]
     },
     "execution_count": 55,
     "metadata": {},
     "output_type": "execute_result"
    }
   ],
   "source": [
    "[w for w in wordlist if re.search('..j..t..', w)][:5]"
   ]
  },
  {
   "cell_type": "code",
   "execution_count": 59,
   "metadata": {},
   "outputs": [
    {
     "data": {
      "text/plain": [
       "['ma', 'maam', 'maamselle', 'mabi', 'mabolo']"
      ]
     },
     "execution_count": 59,
     "metadata": {},
     "output_type": "execute_result"
    }
   ],
   "source": [
    "[w for w in wordlist if re.search('^mai?', w)][:5] # i may or may not, but starting with ma"
   ]
  },
  {
   "cell_type": "code",
   "execution_count": 60,
   "metadata": {},
   "outputs": [
    {
     "data": {
      "text/plain": [
       "['gold', 'golf', 'hold', 'hole']"
      ]
     },
     "execution_count": 60,
     "metadata": {},
     "output_type": "execute_result"
    }
   ],
   "source": [
    "[w for w in wordlist if re.search('^[ghi][mno][jlk][def]$', w)]"
   ]
  },
  {
   "cell_type": "code",
   "execution_count": 61,
   "metadata": {},
   "outputs": [
    {
     "data": {
      "text/plain": [
       "['gold', 'golf', 'hold', 'hole']"
      ]
     },
     "execution_count": 61,
     "metadata": {},
     "output_type": "execute_result"
    }
   ],
   "source": [
    "[w for w in wordlist if re.search('^[ghi][mno][jlk][efd]$', w)]"
   ]
  },
  {
   "cell_type": "code",
   "execution_count": 67,
   "metadata": {},
   "outputs": [
    {
     "data": {
      "text/plain": [
       "['g', 'ghoom', 'gig', 'giggling', 'gigolo']"
      ]
     },
     "execution_count": 67,
     "metadata": {},
     "output_type": "execute_result"
    }
   ],
   "source": [
    "ghi = [w for w in wordlist if re.search('^[ghijklmno]+$', w)]\n",
    "ghi[:5]"
   ]
  },
  {
   "cell_type": "code",
   "execution_count": 75,
   "metadata": {},
   "outputs": [
    {
     "data": {
      "text/plain": [
       "(257, ['g', 'ghoom', 'gig', 'giggling', 'gigolo'])"
      ]
     },
     "execution_count": 75,
     "metadata": {},
     "output_type": "execute_result"
    }
   ],
   "source": [
    "ghi2 = [w for w in wordlist if re.search('^[g-o]+$', w)]\n",
    "len(ghi2), ghi2[:5]"
   ]
  },
  {
   "cell_type": "code",
   "execution_count": 72,
   "metadata": {},
   "outputs": [
    {
     "data": {
      "text/plain": [
       "(1963, ['a', 'aa', 'aal', 'aam', 'aba'])"
      ]
     },
     "execution_count": 72,
     "metadata": {},
     "output_type": "execute_result"
    }
   ],
   "source": [
    "abc = [w for w in wordlist if re.search('^[a-fj-o]+$', w)]\n",
    "len(abc), abc[:5]"
   ]
  },
  {
   "cell_type": "code",
   "execution_count": 73,
   "metadata": {},
   "outputs": [
    {
     "data": {
      "text/plain": [
       "['a',\n",
       " 'anemonal',\n",
       " 'belee',\n",
       " 'cadalene',\n",
       " 'coll',\n",
       " 'dod',\n",
       " 'feel',\n",
       " 'kenno',\n",
       " 'mack',\n",
       " 'namable']"
      ]
     },
     "execution_count": 73,
     "metadata": {},
     "output_type": "execute_result"
    }
   ],
   "source": [
    "abc[::200]"
   ]
  },
  {
   "cell_type": "code",
   "execution_count": 77,
   "metadata": {},
   "outputs": [
    {
     "data": {
      "text/plain": [
       "(54165, ['g', 'ga', 'gab', 'gabardine', 'gabbard'])"
      ]
     },
     "execution_count": 77,
     "metadata": {},
     "output_type": "execute_result"
    }
   ],
   "source": [
    "# what happens if $ is not used.\n",
    "ghi3 = [w for w in wordlist if re.search('^[ghijklmno]+', w)]\n",
    "len(ghi3), ghi3[:5]"
   ]
  },
  {
   "cell_type": "code",
   "execution_count": 78,
   "metadata": {},
   "outputs": [
    {
     "name": "stdout",
     "output_type": "stream",
     "text": [
      "chat_words:  ['', '!', '!!', '!!!']\n"
     ]
    },
    {
     "data": {
      "text/plain": [
       "(4,\n",
       " ['miiiiiiiiiiiiinnnnnnnnnnneeeeeeeeee',\n",
       "  'miiiiiinnnnnnnnnneeeeeeee',\n",
       "  'mine',\n",
       "  'mmmmmmmmiiiiiiiiinnnnnnnnneeeeeeee'])"
      ]
     },
     "execution_count": 78,
     "metadata": {},
     "output_type": "execute_result"
    }
   ],
   "source": [
    "chat_words = sorted(set(w for w in nltk.corpus.nps_chat.words()))\n",
    "print('chat_words: ', chat_words[:4])\n",
    "\n",
    "result = [w for w in chat_words if re.search('^m+i+n+e+$', w)]\n",
    "len(result), result[:5]"
   ]
  },
  {
   "cell_type": "code",
   "execution_count": 79,
   "metadata": {},
   "outputs": [
    {
     "data": {
      "text/plain": [
       "['0.0085', '0.05', '0.1', '0.16', '0.2', '0.25', '0.28', '0.3', '0.4', '0.5']"
      ]
     },
     "execution_count": 79,
     "metadata": {},
     "output_type": "execute_result"
    }
   ],
   "source": [
    "wsj = sorted(set(nltk.corpus.treebank.words()))\n",
    "\n",
    "dec = [w for w in wsj if re.search('^[0-9]+\\.[0-9]+$', w)]\n",
    "dec[:10]"
   ]
  },
  {
   "cell_type": "code",
   "execution_count": 82,
   "metadata": {},
   "outputs": [
    {
     "name": "stdout",
     "output_type": "stream",
     "text": [
      "None\n"
     ]
    }
   ],
   "source": [
    "print(re.search('^[0-9]+\\.[0-9]+$', \"0.1 0.2 0.3 999.123\"))"
   ]
  },
  {
   "cell_type": "code",
   "execution_count": 85,
   "metadata": {},
   "outputs": [
    {
     "name": "stdout",
     "output_type": "stream",
     "text": [
      "<re.Match object; span=(0, 11), match='23490.11111'>\n"
     ]
    }
   ],
   "source": [
    "print(re.search('^[0-9]+\\.[0-9]+$', \"23490.11111\"))"
   ]
  },
  {
   "cell_type": "code",
   "execution_count": 86,
   "metadata": {},
   "outputs": [
    {
     "data": {
      "text/plain": [
       "['C$', 'US$']"
      ]
     },
     "execution_count": 86,
     "metadata": {},
     "output_type": "execute_result"
    }
   ],
   "source": [
    "[w for w in wsj if re.search('^[A-Z]+\\$$', w)]"
   ]
  },
  {
   "cell_type": "code",
   "execution_count": 88,
   "metadata": {},
   "outputs": [
    {
     "data": {
      "text/plain": [
       "['1614', '1637', '1787', '1901', '1903']"
      ]
     },
     "execution_count": 88,
     "metadata": {},
     "output_type": "execute_result"
    }
   ],
   "source": [
    "[w for w in wsj if re.search('^[0-9]{4}$', w)][:5]"
   ]
  },
  {
   "cell_type": "code",
   "execution_count": 89,
   "metadata": {},
   "outputs": [
    {
     "data": {
      "text/plain": [
       "['10-day',\n",
       " '10-lap',\n",
       " '10-year',\n",
       " '100-share',\n",
       " '12-point',\n",
       " '12-year',\n",
       " '14-hour',\n",
       " '15-day',\n",
       " '150-point',\n",
       " '190-point',\n",
       " '20-point',\n",
       " '20-stock',\n",
       " '21-month',\n",
       " '237-seat',\n",
       " '240-page',\n",
       " '27-year',\n",
       " '30-day',\n",
       " '30-point',\n",
       " '30-share',\n",
       " '30-year',\n",
       " '300-day',\n",
       " '36-day',\n",
       " '36-store',\n",
       " '42-year',\n",
       " '50-state',\n",
       " '500-stock',\n",
       " '52-week',\n",
       " '69-point',\n",
       " '84-month',\n",
       " '87-store',\n",
       " '90-day']"
      ]
     },
     "execution_count": 89,
     "metadata": {},
     "output_type": "execute_result"
    }
   ],
   "source": [
    "[w for w in wsj if re.search('^[0-9]+-[a-z]{3,5}$', w)]"
   ]
  },
  {
   "cell_type": "code",
   "execution_count": 90,
   "metadata": {},
   "outputs": [
    {
     "data": {
      "text/plain": [
       "['black-and-white',\n",
       " 'bread-and-butter',\n",
       " 'father-in-law',\n",
       " 'machine-gun-toting',\n",
       " 'savings-and-loan']"
      ]
     },
     "execution_count": 90,
     "metadata": {},
     "output_type": "execute_result"
    }
   ],
   "source": [
    "[w for w in wsj if re.search('^[a-z]{5,}-[a-z]{2,3}-[a-z]{,6}$', w)]"
   ]
  },
  {
   "cell_type": "code",
   "execution_count": 95,
   "metadata": {},
   "outputs": [
    {
     "data": {
      "text/plain": [
       "(1841,\n",
       " ['62%-owned',\n",
       "  'Absorbed',\n",
       "  'According',\n",
       "  'Adopting',\n",
       "  'Advanced',\n",
       "  'Advancing',\n",
       "  'Alfred',\n",
       "  'Allied',\n",
       "  'Annualized',\n",
       "  'Anything'])"
      ]
     },
     "execution_count": 95,
     "metadata": {},
     "output_type": "execute_result"
    }
   ],
   "source": [
    "eding = [w for w in wsj if re.search('(ed|ing)$', w)]\n",
    "len(eding), eding[:10]"
   ]
  },
  {
   "cell_type": "code",
   "execution_count": 114,
   "metadata": {},
   "outputs": [
    {
     "data": {
      "text/plain": [
       "(1969,\n",
       " ['62%-owned',\n",
       "  'Absorbed',\n",
       "  'According',\n",
       "  'Adopting',\n",
       "  'Advanced',\n",
       "  'Advancing',\n",
       "  'Alfred',\n",
       "  'Allied',\n",
       "  'Annualized',\n",
       "  'Anything'])"
      ]
     },
     "execution_count": 114,
     "metadata": {},
     "output_type": "execute_result"
    }
   ],
   "source": [
    "eding2 = [w for w in wsj if re.search('ed|ing$', w)]\n",
    "len(eding2), eding[:10]"
   ]
  },
  {
   "cell_type": "code",
   "execution_count": 105,
   "metadata": {},
   "outputs": [
    {
     "data": {
      "text/plain": [
       "[]"
      ]
     },
     "execution_count": 105,
     "metadata": {},
     "output_type": "execute_result"
    }
   ],
   "source": [
    "d = [w for w in eding if w not in eding2]\n",
    "d"
   ]
  },
  {
   "cell_type": "code",
   "execution_count": 101,
   "metadata": {},
   "outputs": [
    {
     "name": "stdout",
     "output_type": "stream",
     "text": [
      "128\n",
      "128\n",
      "128\n",
      "True True\n"
     ]
    }
   ],
   "source": [
    "edingdiff = [w for w in eding2 if w not in eding]\n",
    "print(len(edingdiff))\n",
    "edingdiff2 = [w for w in eding2 if not (w in eding)]\n",
    "print(len(edingdiff2))\n",
    "edingdiff3 = [w for w in eding2 if not w in eding]\n",
    "print(len(edingdiff3))\n",
    "print(edingdiff == edingdiff2, edingdiff2 == edingdiff3)"
   ]
  },
  {
   "cell_type": "code",
   "execution_count": 103,
   "metadata": {},
   "outputs": [
    {
     "data": {
      "text/plain": [
       "['Biedermann',\n",
       " 'Breeden',\n",
       " 'Cathedral',\n",
       " 'Cedric',\n",
       " 'Confederation',\n",
       " 'Credit',\n",
       " 'Federal',\n",
       " 'Federalist',\n",
       " 'Federation',\n",
       " 'Freddie',\n",
       " 'Frederick',\n",
       " 'Friedrichs',\n",
       " 'Impediments',\n",
       " 'Intermediate',\n",
       " 'Kennedy',\n",
       " 'Media',\n",
       " 'Medical',\n",
       " 'Medicine',\n",
       " 'Mercedes',\n",
       " 'Montedison',\n",
       " 'Nederlanden',\n",
       " 'Needham',\n",
       " 'Proceeds',\n",
       " 'Reddington',\n",
       " 'Redevelopment',\n",
       " 'Roederer',\n",
       " 'Speedway',\n",
       " 'Sweden',\n",
       " 'Teddy',\n",
       " 'Toledo',\n",
       " 'Wednesday',\n",
       " 'Wedtech',\n",
       " 'acknowledge',\n",
       " 'acknowledges',\n",
       " 'agreed-upon',\n",
       " 'allegedly',\n",
       " 'beds',\n",
       " 'buttoned-down',\n",
       " 'closed-end',\n",
       " 'comedies',\n",
       " 'concede',\n",
       " 'concedes',\n",
       " 'credentials',\n",
       " 'credibility',\n",
       " 'credit',\n",
       " 'creditor',\n",
       " 'creditors',\n",
       " 'credits',\n",
       " 'creditworthiness',\n",
       " 'deeds']"
      ]
     },
     "execution_count": 103,
     "metadata": {},
     "output_type": "execute_result"
    }
   ],
   "source": [
    "edingdiff[:50]"
   ]
  },
  {
   "cell_type": "code",
   "execution_count": 122,
   "metadata": {},
   "outputs": [
    {
     "name": "stdout",
     "output_type": "stream",
     "text": [
      "ed_inside:  1178\n",
      "end with ing:  811\n"
     ]
    }
   ],
   "source": [
    "ed_inside = [w for w in wsj if re.search('ed', w)]\n",
    "print('ed_inside: ', len(ed_inside))\n",
    "\n",
    "ing_end = [w for w in wsj if re.search('ing$', w)]\n",
    "print('end with ing: ', len(ing_end))"
   ]
  },
  {
   "cell_type": "code",
   "execution_count": 123,
   "metadata": {},
   "outputs": [
    {
     "data": {
      "text/plain": [
       "1969"
      ]
     },
     "execution_count": 123,
     "metadata": {},
     "output_type": "execute_result"
    }
   ],
   "source": [
    "ed_ing_sum = list(set(ed_inside).union(set(ing_end)))\n",
    "len(ed_ing_sum)"
   ]
  },
  {
   "cell_type": "code",
   "execution_count": 124,
   "metadata": {},
   "outputs": [
    {
     "data": {
      "text/plain": [
       "False"
      ]
     },
     "execution_count": 124,
     "metadata": {},
     "output_type": "execute_result"
    }
   ],
   "source": [
    "ed_ing_sum == eding2"
   ]
  },
  {
   "cell_type": "code",
   "execution_count": 125,
   "metadata": {},
   "outputs": [
    {
     "data": {
      "text/plain": [
       "[]"
      ]
     },
     "execution_count": 125,
     "metadata": {},
     "output_type": "execute_result"
    }
   ],
   "source": [
    "[w for w in ed_ing_sum if w not in eding2]"
   ]
  },
  {
   "cell_type": "code",
   "execution_count": 126,
   "metadata": {},
   "outputs": [
    {
     "data": {
      "text/plain": [
       "[]"
      ]
     },
     "execution_count": 126,
     "metadata": {},
     "output_type": "execute_result"
    }
   ],
   "source": [
    "[w for w in eding2 if w not in ed_ing_sum]"
   ]
  },
  {
   "cell_type": "code",
   "execution_count": 127,
   "metadata": {},
   "outputs": [
    {
     "data": {
      "text/plain": [
       "True"
      ]
     },
     "execution_count": 127,
     "metadata": {},
     "output_type": "execute_result"
    }
   ],
   "source": [
    "ed_ing_sum.sort()\n",
    "eding2.sort()\n",
    "ed_ing_sum == eding2 "
   ]
  },
  {
   "cell_type": "code",
   "execution_count": 129,
   "metadata": {},
   "outputs": [
    {
     "data": {
      "text/plain": [
       "(12593, 'ㄱ', '0x3131')"
      ]
     },
     "execution_count": 129,
     "metadata": {},
     "output_type": "execute_result"
    }
   ],
   "source": [
    "c = 'ㄱ'\n",
    "ord(c), c, hex(ord(c))"
   ]
  },
  {
   "cell_type": "code",
   "execution_count": 135,
   "metadata": {},
   "outputs": [],
   "source": [
    "u = ord(c)"
   ]
  },
  {
   "cell_type": "code",
   "execution_count": 136,
   "metadata": {},
   "outputs": [
    {
     "data": {
      "text/plain": [
       "1"
      ]
     },
     "execution_count": 136,
     "metadata": {},
     "output_type": "execute_result"
    }
   ],
   "source": [
    "u % 16"
   ]
  },
  {
   "cell_type": "code",
   "execution_count": 139,
   "metadata": {},
   "outputs": [
    {
     "data": {
      "text/plain": [
       "'ᄀ'"
      ]
     },
     "execution_count": 139,
     "metadata": {},
     "output_type": "execute_result"
    }
   ],
   "source": [
    "x = '\\u1100'\n",
    "x"
   ]
  },
  {
   "cell_type": "code",
   "execution_count": 145,
   "metadata": {},
   "outputs": [
    {
     "data": {
      "text/plain": [
       "'0xd55c'"
      ]
     },
     "execution_count": 145,
     "metadata": {},
     "output_type": "execute_result"
    }
   ],
   "source": [
    "hex(ord('한'))"
   ]
  },
  {
   "cell_type": "code",
   "execution_count": 23,
   "metadata": {},
   "outputs": [
    {
     "name": "stdout",
     "output_type": "stream",
     "text": [
      "44032 0xac00 44033\n"
     ]
    },
    {
     "data": {
      "text/plain": [
       "(0, 0, 1)"
      ]
     },
     "execution_count": 23,
     "metadata": {},
     "output_type": "execute_result"
    }
   ],
   "source": [
    "cv = ord('각')\n",
    "\n",
    "basevalue = ord('가')\n",
    "print(basevalue, hex(basevalue), cv)\n",
    "jong = (cv - basevalue) % 28\n",
    "jung = ((cv - basevalue)/28) % 21 if jong >= 28 else 0\n",
    "cho = (((cv - basevalue)/28)/21)%19 if jung >= 21 else 0\n",
    "\n",
    "cho, jung, jong "
   ]
  },
  {
   "cell_type": "code",
   "execution_count": 27,
   "metadata": {},
   "outputs": [
    {
     "name": "stdout",
     "output_type": "stream",
     "text": [
      "44032 0xac00 44622\n"
     ]
    },
    {
     "data": {
      "text/plain": [
       "(1, 0, 2)"
      ]
     },
     "execution_count": 27,
     "metadata": {},
     "output_type": "execute_result"
    }
   ],
   "source": [
    "cv = ord('깎')\n",
    "\n",
    "basevalue = ord('가')\n",
    "print(basevalue, hex(basevalue), cv)\n",
    "jong = (cv - basevalue) % 28\n",
    "jung = int((cv - basevalue)/28) % 21 # if jong >= 28 else 0\n",
    "cho = int(((cv - basevalue)/28)/21)%19 # if jung >= 21 else 0\n",
    "\n",
    "cho, jung, jong "
   ]
  },
  {
   "cell_type": "code",
   "execution_count": 28,
   "metadata": {},
   "outputs": [
    {
     "data": {
      "text/plain": [
       "('ᄁ', 'ᅡ', 'ᆩ')"
      ]
     },
     "execution_count": 28,
     "metadata": {},
     "output_type": "execute_result"
    }
   ],
   "source": [
    "a, b, c = chr(cho+0x1100), chr(jung+0x1161), chr(jong+0x11A8 - 1)\n",
    "a, b, c"
   ]
  },
  {
   "cell_type": "code",
   "execution_count": 29,
   "metadata": {},
   "outputs": [
    {
     "name": "stdout",
     "output_type": "stream",
     "text": [
      "44622 0xAE4E 깎\n"
     ]
    }
   ],
   "source": [
    "a,b,c = ord(a) - 0x1100, ord(b) - 0x1161, ord(c) - 0x11A8 + 1\n",
    "syllable = 0xAC00 + a*588 + b*28 + c \n",
    "print(syllable, f'0x{syllable:X}', chr(syllable))"
   ]
  },
  {
   "cell_type": "code",
   "execution_count": 32,
   "metadata": {},
   "outputs": [],
   "source": [
    "def syllable2jamo(kchar):\n",
    "    \"\"\" conversion from 완성형 unicode to 조합형 unicode \"\"\"\n",
    "    cv = ord(kchar)\n",
    "\n",
    "    basevalue = ord('가')\n",
    "    print(basevalue, hex(basevalue), cv)\n",
    "    jong = int(cv - basevalue) % 28\n",
    "    jung = int((cv - basevalue)/28) % 21\n",
    "    cho = int(((cv - basevalue)/28)/21)%19\n",
    "\n",
    "    return chr(cho + 0x1100), chr(jung + 0x1161), chr(jong + 0x11A8 - 1)"
   ]
  },
  {
   "cell_type": "code",
   "execution_count": 39,
   "metadata": {},
   "outputs": [],
   "source": [
    "def jamo2syllable(jamo):\n",
    "    \"\"\" conversion from 조합형 unicode to 완성형 unicode \"\"\"\n",
    "    a,b,c = jamo\n",
    "    a,b,c = ord(a) - 0x1100, ord(b) - 0x1161, ord(c) - 0x11A8 + 1\n",
    "    syllable = 0xAC00 + a*588 + b*28 + c \n",
    "    print(syllable, f'0x{syllable:X}', chr(syllable))\n",
    "    return chr(syllable)"
   ]
  },
  {
   "cell_type": "code",
   "execution_count": 40,
   "metadata": {},
   "outputs": [
    {
     "name": "stdout",
     "output_type": "stream",
     "text": [
      "44032 0xac00 44622\n"
     ]
    },
    {
     "data": {
      "text/plain": [
       "('ᄁ', 'ᅡ', 'ᆩ')"
      ]
     },
     "execution_count": 40,
     "metadata": {},
     "output_type": "execute_result"
    }
   ],
   "source": [
    "syllable2jamo(\"깎\")"
   ]
  },
  {
   "cell_type": "code",
   "execution_count": 41,
   "metadata": {},
   "outputs": [
    {
     "name": "stdout",
     "output_type": "stream",
     "text": [
      "44032 0xac00 44622\n",
      "44622 0xAE4E 깎\n"
     ]
    },
    {
     "data": {
      "text/plain": [
       "'깎'"
      ]
     },
     "execution_count": 41,
     "metadata": {},
     "output_type": "execute_result"
    }
   ],
   "source": [
    "jamo2syllable(syllable2jamo(\"깎\"))"
   ]
  },
  {
   "cell_type": "code",
   "execution_count": 42,
   "metadata": {},
   "outputs": [
    {
     "name": "stdout",
     "output_type": "stream",
     "text": [
      "44032 0xac00 46293\n"
     ]
    },
    {
     "data": {
      "text/plain": [
       "('ᄃ', 'ᅲ', 'ᆼ')"
      ]
     },
     "execution_count": 42,
     "metadata": {},
     "output_type": "execute_result"
    }
   ],
   "source": [
    "syllable2jamo('듕')"
   ]
  },
  {
   "cell_type": "code",
   "execution_count": 43,
   "metadata": {},
   "outputs": [
    {
     "name": "stdout",
     "output_type": "stream",
     "text": [
      "44032 0xac00 46293\n",
      "46293 0xB4D5 듕\n"
     ]
    },
    {
     "data": {
      "text/plain": [
       "'듕'"
      ]
     },
     "execution_count": 43,
     "metadata": {},
     "output_type": "execute_result"
    }
   ],
   "source": [
    "jamo2syllable(syllable2jamo('듕'))"
   ]
  },
  {
   "cell_type": "code",
   "execution_count": null,
   "metadata": {},
   "outputs": [],
   "source": []
  }
 ],
 "metadata": {
  "kernelspec": {
   "display_name": "Python 3.7.5 64-bit",
   "language": "python",
   "name": "python37564bit05346568d4fa4edf84acbdaad0dcfa5b"
  },
  "language_info": {
   "codemirror_mode": {
    "name": "ipython",
    "version": 3
   },
   "file_extension": ".py",
   "mimetype": "text/x-python",
   "name": "python",
   "nbconvert_exporter": "python",
   "pygments_lexer": "ipython3",
   "version": "3.7.5"
  }
 },
 "nbformat": 4,
 "nbformat_minor": 4
}
